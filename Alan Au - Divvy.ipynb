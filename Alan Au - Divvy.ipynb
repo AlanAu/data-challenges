{
 "cells": [
  {
   "cell_type": "markdown",
   "metadata": {},
   "source": [
    "# Data Challenge - Divvy dataset (Alan Au)\n",
    "\n",
    "### Data\n",
    "\n",
    "Divvy is a bike-sharing program sponsored by the City of Chicago since 2013.  They have made all of their bike ride data freely available online at https://www.divvybikes.com/system-data.  We’d like to learn about this data — in particular, we are interested in short rides — we’ll define “short” as rides in which the direct distance between the departure and arrival stations is less than 2km.\n",
    "\n",
    "Each trip is anonymized and includes:\n",
    "\n",
    "* Trip start day and time\n",
    "* Trip end day and time\n",
    "* Trip start station\n",
    "* Trip end station\n",
    "* Rider type (Member or 24-Hour Pass User)\n",
    "* If a Member trip, it will also include Member’s gender and year of birth\n",
    "\n",
    "### Task\n",
    "\n",
    "Build a model to predict if a given bike trip will be a short one or not.  You are free to use as much of the Divvy data as you deem appropriate.  But do validate, and don’t overfit.  Moreover, time permitted, please feel free to bring in any publicly available supplementary data that might be useful.  Be careful not to bring in the time machine, i.e., any information that would not be known to Divvy at the start of a trip! Please code your solution in Python.\n",
    "\n",
    " \n",
    "\n",
    "### What Are We Looking For?\n",
    "\n",
    "We are looking for a finished predictive model using whatever tools and libraries that you are comfortable with.  In your submission, please document your methodology (with visualizations where appropriate) and provide ALL the code (including any environment setup and data sources) necessary to reproduce your analysis from scratch. Moreover, please report on the general performance of your model."
   ]
  },
  {
   "cell_type": "markdown",
   "metadata": {},
   "source": [
    "# Setup\n",
    "\n",
    "I'm using Python 3 (installed via Anaconda). \n",
    "\n",
    "I am building this Jupyter notebook in a project directory, with extracted raw datafiles (from the link above) placed in a ```./Divvy/``` subdirectory. \n",
    "\n",
    "Data manipulation is being done using the ```pandas``` package.\n",
    "\n",
    "Visualization is being done using the ```matplotlib.pyplot``` and ```seaborn``` packages. \n",
    "\n",
    "Modeling is being done using the ```sklearn``` package."
   ]
  },
  {
   "cell_type": "code",
   "execution_count": 2,
   "metadata": {},
   "outputs": [
    {
     "name": "stdout",
     "output_type": "stream",
     "text": [
      "Pseudorandom seed is: 5296\n"
     ]
    }
   ],
   "source": [
    "#!/usr/bin/python3\n",
    "__author__ = 'Alan Au'\n",
    "__date__   = '2018-01-02'\n",
    "\n",
    "import numpy as np\n",
    "import pandas as pd\n",
    "import time\n",
    "import datetime\n",
    "import random\n",
    "import pickle\n",
    "\n",
    "from math import radians, cos, sin, asin, sqrt #for haversine\n",
    "from statistics import median\n",
    "\n",
    "import matplotlib.pyplot as plt\n",
    "%matplotlib inline\n",
    "import seaborn as sns\n",
    "\n",
    "from sklearn.model_selection import train_test_split\n",
    "from sklearn.linear_model import LogisticRegression\n",
    "from sklearn.metrics import confusion_matrix\n",
    "from sklearn.ensemble import RandomForestClassifier\n",
    "\n",
    "from os import listdir\n",
    "from string import digits as digits # saves me some typing\n",
    "\n",
    "#Instead of manually typing in file names, I'll just let Python find them for me.\n",
    "\n",
    "data_loc = \"./Divvy/\" #path to my data file subdirectory; must end with '/'\n",
    "\n",
    "trip_files = [f for f in listdir(data_loc) if f[6:11] == 'Trips' and f[-4:] == \".csv\"]\n",
    "station_files = [f for f in listdir(data_loc) if f[6:14] == 'Stations' and f[-4:] == \".csv\"]\n",
    "\n",
    "#seed = int(random.random()*10000) #generate a random number between 0 and 10000\n",
    "seed = 5296 #for consistency during testing, just keep the same pseudorandomly generated seed\n",
    "print(\"Pseudorandom seed is:\",seed)"
   ]
  },
  {
   "cell_type": "code",
   "execution_count": 2,
   "metadata": {
    "collapsed": true
   },
   "outputs": [],
   "source": [
    "#This is a haversine distance calculator. I pulled it from https://pypi.python.org/pypi/haversine\n",
    "    \n",
    "AVG_EARTH_RADIUS = 6371 # in km\n",
    "MILES_PER_KILOMETER = 0.621371\n",
    "\n",
    "def haversine(point1, point2, miles=False):\n",
    "    # unpack latitude/longitude\n",
    "    lat1, lng1 = point1\n",
    "    lat2, lng2 = point2\n",
    "\n",
    "    # convert all latitudes/longitudes from decimal degrees to radians\n",
    "    lat1, lng1, lat2, lng2 = map(radians, (lat1, lng1, lat2, lng2))\n",
    "\n",
    "    # calculate haversine\n",
    "    lat = lat2 - lat1\n",
    "    lng = lng2 - lng1\n",
    "    d = sin(lat * 0.5) ** 2 + cos(lat1) * cos(lat2) * sin(lng * 0.5) ** 2\n",
    "    h = 2 * AVG_EARTH_RADIUS * asin(sqrt(d))\n",
    "    if miles:\n",
    "        return h * MILES_PER_KILOMETER # in miles\n",
    "    else:\n",
    "        return h # in kilometers"
   ]
  },
  {
   "cell_type": "markdown",
   "metadata": {},
   "source": [
    "# Data preparation (jump to \"Data ingestion\" if re-running)\n",
    "\n",
    "The first step is to download and extract the data files of interest (from the URL in the problem statement above). There is both station and trip data. I have stored them in a subdirectory under my working directory: ```./Divvy/```\n",
    "\n",
    "Some notes:\n",
    "* 2013 has a different date format, but that's the only file, so I can just transform it and dump it back out.\n",
    "* Some of the files wrap the data elements in quotation marks, so I will want to strip those off.\n",
    "* Other than those differences, the files seem compatible (if large).\n",
    "\n",
    "### First let's process the stations, so I can get the lat/long and calculate distances."
   ]
  },
  {
   "cell_type": "code",
   "execution_count": 3,
   "metadata": {},
   "outputs": [
    {
     "name": "stdout",
     "output_type": "stream",
     "text": [
      "Running...\n",
      "All stations done! Finished in 0.0 seconds.\n"
     ]
    }
   ],
   "source": [
    "#Fields are:\n",
    "#id,name,city (2017 only),latitude,longitude,dpcapacity,landmark (2013 only),online date\n",
    "#I'm going to discard the name, city, dpcapacity, landmark, and online date.\n",
    "\n",
    "start = time.mktime(time.localtime())\n",
    "print(\"Running...\") #so I know Jupyter is doing something\n",
    "\n",
    "#for stations\n",
    "def combine_stations(data_loc, stations, out_file):\n",
    "    #inputs: data_loc (directory), stations (list of filenames), out_file (filename)\n",
    "    #outputs: writes to out_file, returns all_stations (dict)\n",
    "    combined_file = open(data_loc+out_file,'w')\n",
    "    all_stations = {}\n",
    "    for station in stations:\n",
    "        raw_file = open(data_loc+station,'r')\n",
    "        raw_data = raw_file.readlines()\n",
    "        year = station[15:19] #pull from filename\n",
    "        if year not in all_stations:\n",
    "            all_stations[year] = {}\n",
    "        for line in raw_data:\n",
    "            line = line.replace('\\\"','') #get rid of quotation marks\n",
    "\n",
    "            if line[0] not in digits: #skip header lines\n",
    "                continue\n",
    "            \n",
    "            if year == '2017': #2017 only\n",
    "                (s_id, s_name, s_city, s_lat, s_long) = line.split(',')[:5]\n",
    "            else:\n",
    "                (s_id, s_name, s_lat, s_long) = line.split(',')[:4]\n",
    "            if s_id not in all_stations[year]: #store stations by year; they sometimes get moved\n",
    "                all_stations[year][s_id] = (float(s_lat),float(s_long))\n",
    "                combined_file.write(','.join([year,s_id,s_lat,s_long])+'\\n')\n",
    "    combined_file.close()\n",
    "    return all_stations #{year:{id:(lat, long)}}\n",
    "\n",
    "stations = combine_stations(data_loc, station_files, \"All_Stations.csv\")\n",
    "\n",
    "duration = time.mktime(time.localtime()) - start\n",
    "print(\"All stations done! Finished in \"+str(duration)+\" seconds.\") #so I know when Jupyter is done (takes about 1 sec.)"
   ]
  },
  {
   "cell_type": "markdown",
   "metadata": {},
   "source": [
    "### Now let's handle trip data.\n",
    "\n",
    "Since I have to look at all of the dates anyways, I might as well decompose the date into features that might be useful for modeling. Specifically, I will probably want the day-of-year, the weekday, and the hour associated with a trip's start and stop. This attempts to account for yearly, weekly, and daily patterns of travel."
   ]
  },
  {
   "cell_type": "code",
   "execution_count": 4,
   "metadata": {},
   "outputs": [
    {
     "name": "stdout",
     "output_type": "stream",
     "text": [
      "12/29/2017 14:30 ('363', '4', '14')\n"
     ]
    }
   ],
   "source": [
    "#helper functions\n",
    "def new_2013_date(old_date):\n",
    "    #old format is yyyy-mm-dd hh:mm\n",
    "    #new format is mm/dd/yyyy hh:mm\n",
    "    parts = old_date.split()\n",
    "    (y,m,d) = parts[0].split('-')\n",
    "    new_date = '/'.join([m,d,y])+\" \"+parts[1]\n",
    "    return new_date\n",
    "\n",
    "def process_date(date):\n",
    "    #input: mm/dd/yyyy hh:mm\n",
    "    parts = date.split()\n",
    "    (m,d,y) = list(map(int,parts[0].split('/')))\n",
    "    day_of_year = str(datetime.datetime(y, m, d).timetuple().tm_yday)\n",
    "    weekday = str(datetime.datetime(y, m, d).weekday()) #Monday = 0, etc.\n",
    "    hour = parts[1].split(':')[0] #get the first part of hh:mm\n",
    "    return (day_of_year, weekday, hour)\n",
    "\n",
    "testdate = \"2017-12-29 14:30\" #Friday\n",
    "testdate = new_2013_date(testdate)\n",
    "print(testdate, process_date(testdate))"
   ]
  },
  {
   "cell_type": "code",
   "execution_count": 5,
   "metadata": {
    "collapsed": true
   },
   "outputs": [],
   "source": [
    "#Fields are:\n",
    "#trip_id,start,stop,bike,duration,from_id,from_name,to_id,to_name,usertype,gender,birthyear\n",
    "\n",
    "#for trips\n",
    "def combine_trips(data_loc, trips, stations, out_file):\n",
    "    #inputs: data_loc (directory), trips (list of filenames), out_file (filename)\n",
    "    #outputs: writes to out_file, returns none\n",
    "    combined_file = open(data_loc+out_file,'w')\n",
    "    \n",
    "    header = \"year,start_day,start_weekday,start_hour,stop_day,stop_weekday,stop_hour,bike,duration,from_id,to_id,distance,short,usertype,gender,birthyear\\n\"\n",
    "    combined_file.write(header)\n",
    "    for trip in trips:\n",
    "        year = trip[12:16] #from filename\n",
    "        raw_file = open(data_loc+trip,'r')\n",
    "        raw_data = raw_file.readlines()\n",
    "        for line in raw_data:\n",
    "            line = line.strip().replace('\\\"','') #get rid of quotation marks\n",
    "\n",
    "            if line[0] not in digits: #skip header lines\n",
    "                continue\n",
    "\n",
    "            (t_id,t_start,t_stop,t_bike,t_dur,t_from_id,t_from_name,t_to_id,t_to_name,t_usertype,t_gender,t_birth) = line.split(',')\n",
    "            \n",
    "            if year == '2013': #process 2013 dates separately\n",
    "                t_start = new_2013_date(t_start)\n",
    "                t_stop = new_2013_date(t_stop)\n",
    "\n",
    "            t_start_doy,t_start_weekday,t_start_hour = process_date(t_start)\n",
    "            t_stop_doy,t_stop_weekday,t_stop_hour = process_date(t_stop)\n",
    "                        \n",
    "            t_dist = '0'\n",
    "            try:\n",
    "                t_dist = str(haversine(stations[year][t_from_id],stations[year][t_to_id])) #calculate distance between stations in km\n",
    "            except KeyError:\n",
    "                t_dist = str(haversine(stations['2017'][t_from_id],stations['2017'][t_to_id])) #if not found, try most recent station list\n",
    "                #t_dist = str(float(t_dur)/360) #estimated distance based on 10km/h speed\n",
    "\n",
    "            t_short = '0'\n",
    "            if float(t_dist) < 2.0: \n",
    "                t_short = '1'\n",
    "            \n",
    "            #I'm throwing out trip_id (probably not useful) and station names (redundant w/station ID)\n",
    "            out_line = ','.join([year, t_start_doy,t_start_weekday,t_start_hour,\n",
    "                                 t_stop_doy,t_stop_weekday,t_stop_hour,\n",
    "                                 t_bike,t_dur,t_from_id,t_to_id,t_dist,t_short,t_usertype,t_gender,t_birth])+\"\\n\"\n",
    "            combined_file.write(out_line)\n",
    "    combined_file.close() #clean up after ourselves"
   ]
  },
  {
   "cell_type": "markdown",
   "metadata": {},
   "source": [
    "### Now let's actually process the input files.\n",
    "\n",
    "Note: Don't need to actually run this each time (it takes about 10 minutes). It generates a file \"All_Trips.csv\" which I can just import into future sessions. \n",
    "\n",
    "**Uncomment out the \"combine_trips call\" if you want to re-run this.**"
   ]
  },
  {
   "cell_type": "code",
   "execution_count": 6,
   "metadata": {},
   "outputs": [
    {
     "name": "stdout",
     "output_type": "stream",
     "text": [
      "Running...\n",
      "All trips done! Finished in 495.0 seconds.\n"
     ]
    }
   ],
   "source": [
    "start = time.mktime(time.localtime())\n",
    "print(\"Running...\") #so I know Jupyter is doing something\n",
    "\n",
    "#combine_trips(data_loc, trip_files, stations, \"All_Trips.csv\") #Commented out so I don't accidentally re-run it\n",
    "\n",
    "duration = time.mktime(time.localtime()) - start\n",
    "print(\"All trips done! Finished in \"+str(duration)+\" seconds.\") #so I know when Jupyter is done (takes about 500 sec.)"
   ]
  },
  {
   "cell_type": "markdown",
   "metadata": {},
   "source": [
    "Here's some code to subset out by year, in case I want smaller test sets to play around with. Ideally I want to just use the entire dataset, but this way I can try testing things out on smaller subsets of the data. It generates a set of \"Trip_YYYY.csv\" files. \n",
    "\n",
    "**As above, uncomment out the \"combine_trips\" call if you want to re-run this.**"
   ]
  },
  {
   "cell_type": "code",
   "execution_count": 7,
   "metadata": {},
   "outputs": [
    {
     "name": "stdout",
     "output_type": "stream",
     "text": [
      "Running...\n",
      "Trips-by-year done! Finished in 472.0 seconds.\n"
     ]
    }
   ],
   "source": [
    "start = time.mktime(time.localtime())\n",
    "print(\"Running...\") #so I know Jupyter is doing something\n",
    "\n",
    "all_trips = {}\n",
    "for trip_file in trip_files:\n",
    "    year = trip_file[12:16] #get the year number\n",
    "    if year in all_trips:\n",
    "        all_trips[year].append(trip_file)\n",
    "    else:\n",
    "        all_trips[year] = [trip_file]\n",
    "\n",
    "for trip_year in all_trips: #for each year, process its sublist of associated files\n",
    "    out_name = \"Trips_\"+trip_year+\".csv\"\n",
    "    #combine_trips(data_loc, all_trips[trip_year], stations, out_name) #Commented out so I don't accidentally re-run it\n",
    "\n",
    "duration = time.mktime(time.localtime()) - start\n",
    "print(\"Trips-by-year done! Finished in \"+str(duration)+\" seconds.\") #so I know when Jupyter is done (takes about 478 sec.)"
   ]
  },
  {
   "cell_type": "markdown",
   "metadata": {},
   "source": [
    "# Data ingestion\n",
    "\n",
    "Now I have a data file in a standardized format, with distance between stations and a set of features. \n",
    "\n",
    "1. year (2013-2017)\n",
    "2. start day-of-year (1-366)\n",
    "3. start weekday (0-6, starts on Monday)\n",
    "5. start hour (0-23)\n",
    "6. stop day-of-year (1-366)\n",
    "7. stop weekday (0-6, starts on Monday)\n",
    "8. stop hour (0-23)\n",
    "9. bike id (integer)\n",
    "10. trip duration (seconds)\n",
    "11. from station (integer)\n",
    "12. to station (integer)\n",
    "13. trip distance (km)\n",
    "14. short trip ('1' if distance < 2.0 km)\n",
    "15. user type ('Customer' or 'Subscriber')\n",
    "16. gender (if 'Subscriber')\n",
    "17. birth year (if 'Subscriber')"
   ]
  },
  {
   "cell_type": "code",
   "execution_count": 4,
   "metadata": {},
   "outputs": [
    {
     "name": "stdout",
     "output_type": "stream",
     "text": [
      "Running...\n",
      "Data ingestion done! Finished in 28.0 seconds.\n"
     ]
    },
    {
     "data": {
      "text/html": [
       "<div>\n",
       "<style>\n",
       "    .dataframe thead tr:only-child th {\n",
       "        text-align: right;\n",
       "    }\n",
       "\n",
       "    .dataframe thead th {\n",
       "        text-align: left;\n",
       "    }\n",
       "\n",
       "    .dataframe tbody tr th {\n",
       "        vertical-align: top;\n",
       "    }\n",
       "</style>\n",
       "<table border=\"1\" class=\"dataframe\">\n",
       "  <thead>\n",
       "    <tr style=\"text-align: right;\">\n",
       "      <th></th>\n",
       "      <th>year</th>\n",
       "      <th>start_day</th>\n",
       "      <th>start_weekday</th>\n",
       "      <th>start_hour</th>\n",
       "      <th>stop_day</th>\n",
       "      <th>stop_weekday</th>\n",
       "      <th>stop_hour</th>\n",
       "      <th>bike</th>\n",
       "      <th>duration</th>\n",
       "      <th>from_id</th>\n",
       "      <th>to_id</th>\n",
       "      <th>distance</th>\n",
       "      <th>short</th>\n",
       "      <th>usertype</th>\n",
       "      <th>gender</th>\n",
       "      <th>birthyear</th>\n",
       "    </tr>\n",
       "  </thead>\n",
       "  <tbody>\n",
       "    <tr>\n",
       "      <th>0</th>\n",
       "      <td>2013</td>\n",
       "      <td>178</td>\n",
       "      <td>3</td>\n",
       "      <td>12</td>\n",
       "      <td>178</td>\n",
       "      <td>3</td>\n",
       "      <td>12</td>\n",
       "      <td>480</td>\n",
       "      <td>316</td>\n",
       "      <td>85</td>\n",
       "      <td>28</td>\n",
       "      <td>2.223265</td>\n",
       "      <td>0</td>\n",
       "      <td>Customer</td>\n",
       "      <td>NaN</td>\n",
       "      <td>NaN</td>\n",
       "    </tr>\n",
       "    <tr>\n",
       "      <th>1</th>\n",
       "      <td>2013</td>\n",
       "      <td>178</td>\n",
       "      <td>3</td>\n",
       "      <td>14</td>\n",
       "      <td>178</td>\n",
       "      <td>3</td>\n",
       "      <td>14</td>\n",
       "      <td>77</td>\n",
       "      <td>64</td>\n",
       "      <td>32</td>\n",
       "      <td>32</td>\n",
       "      <td>0.000000</td>\n",
       "      <td>1</td>\n",
       "      <td>Customer</td>\n",
       "      <td>NaN</td>\n",
       "      <td>NaN</td>\n",
       "    </tr>\n",
       "    <tr>\n",
       "      <th>2</th>\n",
       "      <td>2013</td>\n",
       "      <td>178</td>\n",
       "      <td>3</td>\n",
       "      <td>14</td>\n",
       "      <td>178</td>\n",
       "      <td>3</td>\n",
       "      <td>15</td>\n",
       "      <td>77</td>\n",
       "      <td>433</td>\n",
       "      <td>32</td>\n",
       "      <td>19</td>\n",
       "      <td>0.667182</td>\n",
       "      <td>1</td>\n",
       "      <td>Customer</td>\n",
       "      <td>NaN</td>\n",
       "      <td>NaN</td>\n",
       "    </tr>\n",
       "  </tbody>\n",
       "</table>\n",
       "</div>"
      ],
      "text/plain": [
       "   year  start_day  start_weekday  start_hour  stop_day  stop_weekday  \\\n",
       "0  2013        178              3          12       178             3   \n",
       "1  2013        178              3          14       178             3   \n",
       "2  2013        178              3          14       178             3   \n",
       "\n",
       "   stop_hour  bike  duration  from_id  to_id  distance  short  usertype  \\\n",
       "0         12   480       316       85     28  2.223265      0  Customer   \n",
       "1         14    77        64       32     32  0.000000      1  Customer   \n",
       "2         15    77       433       32     19  0.667182      1  Customer   \n",
       "\n",
       "  gender  birthyear  \n",
       "0    NaN        NaN  \n",
       "1    NaN        NaN  \n",
       "2    NaN        NaN  "
      ]
     },
     "execution_count": 4,
     "metadata": {},
     "output_type": "execute_result"
    }
   ],
   "source": [
    "filename = \"All_Trips.csv\"\n",
    "\n",
    "start = time.mktime(time.localtime())\n",
    "print(\"Running...\") #so I know Jupyter is doing something\n",
    "\n",
    "df = pd.read_csv(data_loc+filename, low_memory=False) #data_loc is from above\n",
    "trip_count = df['short'].count()\n",
    "\n",
    "duration = time.mktime(time.localtime()) - start\n",
    "print(\"Data ingestion done! Finished in \"+str(duration)+\" seconds.\") #so I know when Jupyter is done (takes about 30 sec.)\n",
    "\n",
    "df.head(3)"
   ]
  },
  {
   "cell_type": "markdown",
   "metadata": {},
   "source": [
    "# Basic data visualization\n"
   ]
  },
  {
   "cell_type": "code",
   "execution_count": 4,
   "metadata": {},
   "outputs": [
    {
     "data": {
      "text/plain": [
       "year             11544749\n",
       "start_day        11544749\n",
       "start_weekday    11544749\n",
       "start_hour       11544749\n",
       "stop_day         11544749\n",
       "stop_weekday     11544749\n",
       "stop_hour        11544749\n",
       "bike             11544749\n",
       "duration         11544749\n",
       "from_id          11544749\n",
       "to_id            11544749\n",
       "distance         11544749\n",
       "short            11544749\n",
       "usertype         11544749\n",
       "gender            8291460\n",
       "birthyear         8291991\n",
       "dtype: int64"
      ]
     },
     "execution_count": 4,
     "metadata": {},
     "output_type": "execute_result"
    }
   ],
   "source": [
    "#check for missing/NaN values\n",
    "\n",
    "df.count()"
   ]
  },
  {
   "cell_type": "code",
   "execution_count": 5,
   "metadata": {},
   "outputs": [
    {
     "name": "stdout",
     "output_type": "stream",
     "text": [
      "Total trips: 11544749\n",
      "Short trips: 7234994\n",
      "Long trips:  4309755\n",
      "Short/total trips: 0.63\n"
     ]
    }
   ],
   "source": [
    "short_count = sum(df['short'])\n",
    "long_count = trip_count - short_count\n",
    "short_pct = short_count/trip_count\n",
    "\n",
    "print(\"Total trips:\", trip_count)\n",
    "print(\"Short trips:\", short_count)\n",
    "print(\"Long trips: \", long_count)\n",
    "print(\"Short/total trips:\", '{:.2f}'.format(short_pct))"
   ]
  },
  {
   "cell_type": "code",
   "execution_count": 6,
   "metadata": {},
   "outputs": [
    {
     "data": {
      "image/png": "[encoded data removed]",
      "text/plain": [
       "<matplotlib.figure.Figure at 0x235bc5e4d68>"
      ]
     },
     "metadata": {},
     "output_type": "display_data"
    }
   ],
   "source": [
    "#Histogram of distances\n",
    "#Note: do this before removing the \"distance\" column from the dataframe\n",
    "\n",
    "plt.rcParams[\"figure.figsize\"] = [15,5] #resize the plot for easy display\n",
    "\n",
    "#sns.distplot(raw_df['distance'], kde=False) #seaborn version\n",
    "\n",
    "max_dist = 10\n",
    "cutoff_dist = 2\n",
    "all_dist = list(map(lambda x:x/10,range(0,max_dist*10+1)))\n",
    "short_dist = list(map(lambda x:x/10,range(0,cutoff_dist*10+1)))\n",
    "\n",
    "plt.figure().add_subplot(111).set_xticks(list(map(lambda x:x/2,range(0,max_dist*2))))\n",
    "\n",
    "plt.hist(df['distance'], bins = all_dist, rwidth = 1.0, color = 'k');\n",
    "plt.hist(df['distance'], bins = short_dist, rwidth = 1.0, color = 'g');"
   ]
  },
  {
   "cell_type": "markdown",
   "metadata": {},
   "source": [
    "### Some initial observations\n",
    "\n",
    "* So far, this looks pretty good. There are about 11.5 Million trip records. 63% of them are short trips (< 2km), so the dataset isn't perfectly balanced, but it's not too skewed either.\n",
    "\n",
    "* Some trips start and stop at the same station. I could estimate distance based on duration, but the problem asks for straight-line distances calculated between stations, so I'll just leave it alone for now.\n",
    "\n",
    "* Trips generally start and stop on the same day, so I only really need either the start or the stop date information. Speaking of which, the year probably isn't useful as a model input.\n",
    "\n",
    "* If I have both the start and stop locations, I can just calculate the distance and don't need a predictive model. I should use one or the other. Start location is probably more useful, since it may have more impact on a customer's decision to use the service (bike availability, condition, messaging, convenience, etc.).\n",
    "\n",
    "# More data visualization\n",
    "\n",
    "Now I'm going to do some data cleanup and quick visualizations to see what the data looks like."
   ]
  },
  {
   "cell_type": "code",
   "execution_count": 6,
   "metadata": {},
   "outputs": [
    {
     "name": "stdout",
     "output_type": "stream",
     "text": [
      "Total trips: 11544749\n",
      "Subscriber trips: 8291238\n",
      "Subscriber/total: 0.72\n"
     ]
    }
   ],
   "source": [
    "#encode usertype and check numbers on Subscribers vs. Customers\n",
    "\n",
    "#Note: There's apparently a third value: 'Dependent' which (as I understand) is a minor paid for by a subscriber.\n",
    "\n",
    "def encode_subscribers(value):\n",
    "    if value == 0 or value == 1: return value\n",
    "    elif not value: return 0\n",
    "    elif value == 'Customer': return 0\n",
    "    elif value == 'Subscriber' or value == 'Dependent': return 1\n",
    "    else: return value\n",
    "\n",
    "def encode_gender(value):\n",
    "    if value == 1 or value == 2: return value\n",
    "    elif value == 'Female': return 1\n",
    "    elif value == 'Male': return 2\n",
    "    else: return 0\n",
    "\n",
    "df['usertype'] = df['usertype'].apply(encode_subscribers)    \n",
    "df['gender'] = df['gender'].apply(encode_gender)\n",
    "df['minutes'] = df['duration']//60\n",
    "\n",
    "sub_count = sum(df['usertype'])\n",
    "print(\"Total trips:\", trip_count)\n",
    "print(\"Subscriber trips:\", sub_count)\n",
    "print(\"Subscriber/total:\", '{:.2f}'.format(sub_count/trip_count))"
   ]
  },
  {
   "cell_type": "code",
   "execution_count": 8,
   "metadata": {},
   "outputs": [
    {
     "name": "stdout",
     "output_type": "stream",
     "text": [
      "Max birthyear: 2016\n",
      "Min birthyear: 1898\n",
      "Median birthyear: 1983\n"
     ]
    }
   ],
   "source": [
    "#clean up the birthyear values\n",
    "\n",
    "def clean_year(year):\n",
    "    if year < 1940: return 0 #this potentially removes some valid data, but probably negligible\n",
    "    else: return year\n",
    "\n",
    "allyears = df['birthyear'].dropna().apply(lambda x:int(x))\n",
    "\n",
    "maxyear = max(allyears) #this reports as 2016; I'm unconvinced that there were infants riding bikes\n",
    "minyear = min(allyears) #this reports as 1898; probably a bad datapoint\n",
    "medyear = median(allyears)\n",
    "\n",
    "print(\"Max birthyear:\", maxyear)\n",
    "print(\"Min birthyear:\", minyear)\n",
    "print(\"Median birthyear:\", medyear)\n",
    "\n",
    "df['cleanyear'] = df['birthyear'].fillna('0').apply(lambda x:int(x)) #thought about using median, but 0 is probably better\n",
    "df['cleanyear'] = df['cleanyear'].apply(clean_year)"
   ]
  },
  {
   "cell_type": "markdown",
   "metadata": {},
   "source": [
    "## Find the short trips for visualization"
   ]
  },
  {
   "cell_type": "code",
   "execution_count": 9,
   "metadata": {},
   "outputs": [],
   "source": [
    "short_df = df[df['short']==1]"
   ]
  },
  {
   "cell_type": "code",
   "execution_count": 12,
   "metadata": {},
   "outputs": [
    {
     "data": {
      "image/png": "[encoded data removed]",
      "text/plain": [
       "<matplotlib.figure.Figure at 0x235c191ce10>"
      ]
     },
     "metadata": {},
     "output_type": "display_data"
    }
   ],
   "source": [
    "#histogram of trips by day of year\n",
    "\n",
    "plt.rcParams[\"figure.figsize\"] = [15,5] #resize the plot for easy display\n",
    "\n",
    "#sns.distplot(df['start_day'], kde=False) #seaborn version\n",
    "\n",
    "plt.figure().add_subplot(111).set_xticks(range(0,366,15))\n",
    "\n",
    "plt.hist(df['start_day'], bins = np.arange(1,367)-0.5, rwidth = 1.0, color = 'k');\n",
    "plt.hist(short_df['start_day'], bins = np.arange(1,367)-0.5, rwidth = 1.0, color = 'g');\n",
    "\n",
    "plt.xlabel('Day of the Year (1-366)', fontsize = '20');\n",
    "plt.ylabel('Number of Trips', fontsize = '20');"
   ]
  },
  {
   "cell_type": "code",
   "execution_count": 13,
   "metadata": {},
   "outputs": [
    {
     "data": {
      "image/png": "[encoded data removed]",
      "text/plain": [
       "<matplotlib.figure.Figure at 0x235805aa2e8>"
      ]
     },
     "metadata": {},
     "output_type": "display_data"
    }
   ],
   "source": [
    "#histogram of trips by day of week\n",
    "\n",
    "plt.rcParams[\"figure.figsize\"] = [15,5] #resize the plot for easy display\n",
    "\n",
    "#sns.distplot(df['start_weekday'], kde=False) #seaborn version\n",
    "\n",
    "plt.hist(df['start_weekday'], bins = np.arange(0,8)-0.5, rwidth = 0.9, color = 'k');\n",
    "plt.hist(short_df['start_weekday'], bins = np.arange(0,8)-0.5, rwidth = .9, color = 'g');\n",
    "weekdays = ['M','T','W','Th','F','Sa','Su']\n",
    "plt.xticks(range(7), weekdays);\n",
    "\n",
    "plt.xlabel('Day of the Week', fontsize = '20');\n",
    "plt.ylabel('Number of Trips', fontsize = '20');"
   ]
  },
  {
   "cell_type": "code",
   "execution_count": 14,
   "metadata": {},
   "outputs": [
    {
     "data": {
      "image/png": "[encoded data removed]",
      "text/plain": [
       "<matplotlib.figure.Figure at 0x23580d2dc50>"
      ]
     },
     "metadata": {},
     "output_type": "display_data"
    }
   ],
   "source": [
    "#histogram of trips by starting hour\n",
    "\n",
    "plt.rcParams[\"figure.figsize\"] = [15,5] #resize the plot for easy display\n",
    "\n",
    "#sns.distplot(df['start_hour'], kde=False) #seaborn version\n",
    "\n",
    "plt.figure().add_subplot(111).set_xticks(range(0,24,1))\n",
    "\n",
    "plt.hist(df['start_hour'], bins = np.arange(0,25)-0.5, rwidth = 0.9, color = 'k');\n",
    "plt.hist(short_df['start_hour'], bins = np.arange(0,25)-0.5, rwidth = 0.9, color = 'g');\n",
    "\n",
    "plt.xlabel('Hour of Start (0-23)', fontsize = '20');\n",
    "plt.ylabel('Number of Trips', fontsize = '20');"
   ]
  },
  {
   "cell_type": "code",
   "execution_count": 15,
   "metadata": {},
   "outputs": [
    {
     "data": {
      "image/png": "[encoded data removed]",
      "text/plain": [
       "<matplotlib.figure.Figure at 0x235bc688a90>"
      ]
     },
     "metadata": {},
     "output_type": "display_data"
    }
   ],
   "source": [
    "#histogram of trips by bike number\n",
    "\n",
    "plt.rcParams[\"figure.figsize\"] = [15,5] #resize the plot for easy display\n",
    "\n",
    "#sns.distplot(df['bike'], kde=False) #seaborn version\n",
    "\n",
    "maxbike = max(df['bike'])\n",
    "plt.hist(df['bike'], bins = np.arange(0,maxbike)-0.5, rwidth = 1.0, color = 'k');\n",
    "plt.hist(short_df['bike'], bins = np.arange(0,maxbike)-0.5, rwidth = 1.0, color = 'g');\n",
    "\n",
    "plt.xlabel('Bike ID Number', fontsize = '20');\n",
    "plt.ylabel('Number of Trips', fontsize = '20');"
   ]
  },
  {
   "cell_type": "code",
   "execution_count": 16,
   "metadata": {},
   "outputs": [
    {
     "data": {
      "image/png": "[encoded data removed]",
      "text/plain": [
       "<matplotlib.figure.Figure at 0x235801b0fd0>"
      ]
     },
     "metadata": {},
     "output_type": "display_data"
    }
   ],
   "source": [
    "#histogram of trips by number of minutes\n",
    "\n",
    "plt.rcParams[\"figure.figsize\"] = [15,5] #resize the plot for easy display\n",
    "\n",
    "#sns.distplot(df['minutes'], kde=False) #seaborn version\n",
    "\n",
    "#maxdur = max(df['minutes']) #in minutes\n",
    "maxdur = 150 #there's an outlier in the dataset; use 150 minutes instead\n",
    "\n",
    "plt.figure().add_subplot(111).set_xticks(range(0,maxdur,15))\n",
    "\n",
    "plt.hist(df['minutes'], bins = np.arange(0,maxdur)-0.5, rwidth = 1.0, color = 'k');\n",
    "plt.hist(short_df['minutes'], bins = np.arange(0,maxdur)-0.5, rwidth = 1.0, color = 'g');\n",
    "\n",
    "plt.xlabel('Trip Duration (minutes)', fontsize = '20');\n",
    "plt.ylabel('Number of Trips', fontsize = '20');"
   ]
  },
  {
   "cell_type": "code",
   "execution_count": 17,
   "metadata": {},
   "outputs": [
    {
     "data": {
      "image/png": "[encoded data removed]",
      "text/plain": [
       "<matplotlib.figure.Figure at 0x23580e207b8>"
      ]
     },
     "metadata": {},
     "output_type": "display_data"
    }
   ],
   "source": [
    "#histogram of trips by gender\n",
    "\n",
    "plt.rcParams[\"figure.figsize\"] = [15,5] #resize the plot for easy display\n",
    "\n",
    "#sns.distplot(df['gender'], kde=False) #seaborn version\n",
    "\n",
    "genders = ['Not Provided', 'Women', 'Men']\n",
    "plt.xticks(range(7), genders);\n",
    "\n",
    "plt.hist(df['gender'], bins = np.arange(0,4)-0.5, rwidth = 0.9, color = 'k');\n",
    "plt.hist(short_df['gender'], bins = np.arange(0,4)-0.5, rwidth = 0.9, color = 'g');\n",
    "\n",
    "plt.xlabel('Rider self-reported gender', fontsize = '20');\n",
    "plt.ylabel('Number of Trips', fontsize = '20');"
   ]
  },
  {
   "cell_type": "code",
   "execution_count": 18,
   "metadata": {},
   "outputs": [
    {
     "data": {
      "image/png": "[encoded data removed]",
      "text/plain": [
       "<matplotlib.figure.Figure at 0x235c192d240>"
      ]
     },
     "metadata": {},
     "output_type": "display_data"
    }
   ],
   "source": [
    "#histogram of trips by birthyear\n",
    "\n",
    "plt.rcParams[\"figure.figsize\"] = [15,5] #resize the plot for easy display\n",
    "\n",
    "#sns.distplot(df['cleanyear'], kde=False) #seaborn version\n",
    "\n",
    "birth_df = df[df['birthyear'] > 0]\n",
    "short_birth_df = df[df['short'] == 1]\n",
    "\n",
    "plt.hist(birth_df['cleanyear'], bins = np.arange(1940,2011)-0.5, rwidth = 0.9, color = 'k');\n",
    "plt.hist(short_birth_df['cleanyear'], bins = np.arange(1940,2011)-0.5, rwidth = 0.9, color = 'g');\n",
    "plt.xticks(range(1940,2011,10));\n",
    "\n",
    "plt.xlabel('Rider self-reported birthyear', fontsize = '20');\n",
    "plt.ylabel('Number of Trips', fontsize = '20');"
   ]
  },
  {
   "cell_type": "markdown",
   "metadata": {},
   "source": [
    "While there are usage spikes during the summer months and during commute hours, there's a good mixture of both short and long trips associated with each date/time.\n",
    "\n",
    "Trips tend to be shorter in the winter, but there are still some longer trips as well.\n",
    "\n",
    "Unsurprisingly, trip distance roughly scales with trip duration, but not always.\n",
    "\n",
    "\n",
    "# Data modeling\n",
    "\n",
    "Let's try building some models. Because we're looking for a binary categorical output, I'll start with a simple logistic regression model.\n",
    "\n",
    "To start, I'm going to remove the year, the bike ID, and the subscriber-only information (gender, birthyear).\n",
    "\n",
    "I'm also going to take out the stop date/time/location information and the trip duration, which we wouldn't be able to determine until after the ride was completed, at which point we would also know whether or not it was a short trip, so building a model would have been unnecessary."
   ]
  },
  {
   "cell_type": "code",
   "execution_count": 22,
   "metadata": {},
   "outputs": [
    {
     "data": {
      "text/html": [
       "<div>\n",
       "<style>\n",
       "    .dataframe thead tr:only-child th {\n",
       "        text-align: right;\n",
       "    }\n",
       "\n",
       "    .dataframe thead th {\n",
       "        text-align: left;\n",
       "    }\n",
       "\n",
       "    .dataframe tbody tr th {\n",
       "        vertical-align: top;\n",
       "    }\n",
       "</style>\n",
       "<table border=\"1\" class=\"dataframe\">\n",
       "  <thead>\n",
       "    <tr style=\"text-align: right;\">\n",
       "      <th></th>\n",
       "      <th>start_day</th>\n",
       "      <th>start_weekday</th>\n",
       "      <th>start_hour</th>\n",
       "      <th>from_id</th>\n",
       "      <th>short</th>\n",
       "      <th>usertype</th>\n",
       "    </tr>\n",
       "  </thead>\n",
       "  <tbody>\n",
       "    <tr>\n",
       "      <th>0</th>\n",
       "      <td>178</td>\n",
       "      <td>3</td>\n",
       "      <td>12</td>\n",
       "      <td>85</td>\n",
       "      <td>0</td>\n",
       "      <td>0</td>\n",
       "    </tr>\n",
       "    <tr>\n",
       "      <th>1</th>\n",
       "      <td>178</td>\n",
       "      <td>3</td>\n",
       "      <td>14</td>\n",
       "      <td>32</td>\n",
       "      <td>1</td>\n",
       "      <td>0</td>\n",
       "    </tr>\n",
       "    <tr>\n",
       "      <th>2</th>\n",
       "      <td>178</td>\n",
       "      <td>3</td>\n",
       "      <td>14</td>\n",
       "      <td>32</td>\n",
       "      <td>1</td>\n",
       "      <td>0</td>\n",
       "    </tr>\n",
       "  </tbody>\n",
       "</table>\n",
       "</div>"
      ],
      "text/plain": [
       "   start_day  start_weekday  start_hour  from_id  short  usertype\n",
       "0        178              3          12       85      0         0\n",
       "1        178              3          14       32      1         0\n",
       "2        178              3          14       32      1         0"
      ]
     },
     "execution_count": 22,
     "metadata": {},
     "output_type": "execute_result"
    }
   ],
   "source": [
    "model_df = df[['start_day','start_weekday','start_hour','from_id','short','usertype']]\n",
    "\n",
    "#verify that the dataframe is set up properly\n",
    "model_df.head(3)"
   ]
  },
  {
   "cell_type": "markdown",
   "metadata": {},
   "source": [
    "First I'm going to split the dataset into training and test sets. 20% should do it. \n",
    "\n",
    "The data isn't particularly imbalanced in any one area, and I have plenty of datapoints, so I'm not too concerned with needing to stratify my dataset."
   ]
  },
  {
   "cell_type": "code",
   "execution_count": 24,
   "metadata": {},
   "outputs": [
    {
     "name": "stdout",
     "output_type": "stream",
     "text": [
      "Done!\n"
     ]
    }
   ],
   "source": [
    "X_train, X_test, y_train, y_test = train_test_split(model_df.drop(['short'],axis=1), model_df['short'], test_size=0.2, random_state=seed)\n",
    "print(\"Done!\")"
   ]
  },
  {
   "cell_type": "markdown",
   "metadata": {},
   "source": [
    "### Logistic regression model"
   ]
  },
  {
   "cell_type": "code",
   "execution_count": 25,
   "metadata": {},
   "outputs": [
    {
     "name": "stdout",
     "output_type": "stream",
     "text": [
      "Running...\n",
      "Logistic regression model trained in 70.0 seconds.\n",
      "\n",
      "LogisticRegression(C=1.0, class_weight=None, dual=False, fit_intercept=True,\n",
      "          intercept_scaling=1, max_iter=100, multi_class='ovr', n_jobs=1,\n",
      "          penalty='l2', random_state=None, solver='liblinear', tol=0.0001,\n",
      "          verbose=0, warm_start=False)\n"
     ]
    }
   ],
   "source": [
    "start = time.mktime(time.localtime())\n",
    "print(\"Running...\") #so I know Jupyter is doing something\n",
    "\n",
    "lr = LogisticRegression() #with defaults\n",
    "lr.fit(X_train,y_train) #fit model to training data\n",
    "\n",
    "duration = time.mktime(time.localtime()) - start\n",
    "print(\"Logistic regression model trained in \"+str(duration)+\" seconds.\") #so I know when Jupyter is done (takes about 70 sec.)\n",
    "print()\n",
    "print(lr)"
   ]
  },
  {
   "cell_type": "code",
   "execution_count": 26,
   "metadata": {},
   "outputs": [
    {
     "name": "stdout",
     "output_type": "stream",
     "text": [
      "Done!\n"
     ]
    }
   ],
   "source": [
    "#save the model\n",
    "with open('lr_model.pkl', 'wb') as fid:\n",
    "    pickle.dump(lr, fid)    \n",
    "\n",
    "#with open('lr_model.pkl', 'rb') as fid: #to load model from file\n",
    "#    lr = pickle.load(fid)\n",
    "print(\"Done!\")"
   ]
  },
  {
   "cell_type": "code",
   "execution_count": 27,
   "metadata": {},
   "outputs": [
    {
     "name": "stdout",
     "output_type": "stream",
     "text": [
      "[[   8665  853254]\n",
      " [   8031 1439000]]\n"
     ]
    }
   ],
   "source": [
    "#okay, let's test it\n",
    "lr_pred_test = lr.predict(X_test)\n",
    "\n",
    "#tn, fp, fn, tp = confusion_matrix()\n",
    "lr_cm = confusion_matrix(y_test, lr_pred_test)\n",
    "print(lr_cm)"
   ]
  },
  {
   "cell_type": "code",
   "execution_count": 28,
   "metadata": {},
   "outputs": [
    {
     "name": "stdout",
     "output_type": "stream",
     "text": [
      "Accuracy (TP+TN/TP+TN+FP+FN): 0.63\n",
      "Sensitivity (TP/TP+FN): 0.99\n",
      "Specificity (TN/TN+FP): 0.01\n"
     ]
    }
   ],
   "source": [
    "TN = lr_cm[0][0]\n",
    "FP = lr_cm[0][1]\n",
    "FN = lr_cm[1][0]\n",
    "TP = lr_cm[1][1]\n",
    "\n",
    "print(\"Accuracy (TP+TN/TP+TN+FP+FN):\",'{:.2}'.format((TP+TN)/(TP+TN+FP+FN)))\n",
    "print(\"Sensitivity (TP/TP+FN):\",'{:.2}'.format(TP/(TP+FN)))\n",
    "print(\"Specificity (TN/TN+FP):\",'{:.2}'.format(TN/(TN+FP)))\n"
   ]
  },
  {
   "cell_type": "code",
   "execution_count": 29,
   "metadata": {},
   "outputs": [
    {
     "data": {
      "image/png": "[encoded data removed]",
      "text/plain": [
       "<matplotlib.figure.Figure at 0x235801fc320>"
      ]
     },
     "metadata": {},
     "output_type": "display_data"
    }
   ],
   "source": [
    "sns.heatmap(lr_cm, annot=True, xticklabels=['Predicted Negative', 'Predicted Positive'], \n",
    "            yticklabels=['Real Negative','Real Positive']);"
   ]
  },
  {
   "cell_type": "markdown",
   "metadata": {},
   "source": [
    "This model is slightly better than random, but even without the model, you could instead guess that all trips were short trips and get 63% accuracy, so this isn't really an improvement. Of particular note, the model is very bad at detecting long trips."
   ]
  },
  {
   "cell_type": "markdown",
   "metadata": {},
   "source": [
    "### Random forest classifier model\n",
    "\n",
    "The Linear Regression model doesn't perform very well, so I'm going to try a Random Forest classifier instead. The downside is that it takes longer to train the model, but hopefully model performance will improve?"
   ]
  },
  {
   "cell_type": "code",
   "execution_count": 30,
   "metadata": {},
   "outputs": [
    {
     "name": "stdout",
     "output_type": "stream",
     "text": [
      "Running...\n",
      "Random forest model trained in 797.0 seconds.\n",
      "\n",
      "RandomForestClassifier(bootstrap=True, class_weight=None, criterion='gini',\n",
      "            max_depth=None, max_features='auto', max_leaf_nodes=None,\n",
      "            min_impurity_split=1e-07, min_samples_leaf=1,\n",
      "            min_samples_split=2, min_weight_fraction_leaf=0.0,\n",
      "            n_estimators=10, n_jobs=1, oob_score=False, random_state=None,\n",
      "            verbose=0, warm_start=False)\n"
     ]
    }
   ],
   "source": [
    "start = time.mktime(time.localtime())\n",
    "print(\"Running...\") #so I know Jupyter is doing something\n",
    "\n",
    "rf = RandomForestClassifier()\n",
    "rf.fit(X_train, y_train)\n",
    "\n",
    "duration = time.mktime(time.localtime()) - start\n",
    "print(\"Random forest model trained in \"+str(duration)+\" seconds.\") #so I know when Jupyter is done (takes about 800 sec.)\n",
    "print()\n",
    "print(rf)"
   ]
  },
  {
   "cell_type": "code",
   "execution_count": 31,
   "metadata": {},
   "outputs": [
    {
     "name": "stdout",
     "output_type": "stream",
     "text": [
      "Done!\n"
     ]
    }
   ],
   "source": [
    "#save the model\n",
    "with open('rf_model.pkl', 'wb') as fid:\n",
    "    pickle.dump(rf, fid)    \n",
    "\n",
    "#with open('rf_model.pkl', 'rb') as fid: #to load model from file\n",
    "#    rf = pickle.load(fid)\n",
    "print(\"Done!\")"
   ]
  },
  {
   "cell_type": "code",
   "execution_count": 32,
   "metadata": {},
   "outputs": [
    {
     "name": "stdout",
     "output_type": "stream",
     "text": [
      "[[ 432459  429460]\n",
      " [ 357502 1089529]]\n"
     ]
    }
   ],
   "source": [
    "#okay, let's test it\n",
    "rf_pred_test = rf.predict(X_test)\n",
    "\n",
    "#tn, fp, fn, tp = confusion_matrix()\n",
    "rf_cm = confusion_matrix(y_test, rf_pred_test)\n",
    "print(rf_cm)"
   ]
  },
  {
   "cell_type": "code",
   "execution_count": 33,
   "metadata": {},
   "outputs": [
    {
     "name": "stdout",
     "output_type": "stream",
     "text": [
      "Accuracy (TP+TN/TP+TN+FP+FN): 0.66\n",
      "Sensitivity (TP/TP+FN): 0.75\n",
      "Specificity (TN/TN+FP): 0.5\n"
     ]
    }
   ],
   "source": [
    "TN = rf_cm[0][0]\n",
    "FP = rf_cm[0][1]\n",
    "FN = rf_cm[1][0]\n",
    "TP = rf_cm[1][1]\n",
    "\n",
    "print(\"Accuracy (TP+TN/TP+TN+FP+FN):\",'{:.2}'.format((TP+TN)/(TP+TN+FP+FN)))\n",
    "print(\"Sensitivity (TP/TP+FN):\",'{:.2}'.format(TP/(TP+FN)))\n",
    "print(\"Specificity (TN/TN+FP):\",'{:.2}'.format(TN/(TN+FP)))"
   ]
  },
  {
   "cell_type": "code",
   "execution_count": 34,
   "metadata": {},
   "outputs": [
    {
     "data": {
      "image/png": "[encoded data removed]",
      "text/plain": [
       "<matplotlib.figure.Figure at 0x23580d66940>"
      ]
     },
     "metadata": {},
     "output_type": "display_data"
    }
   ],
   "source": [
    "sns.heatmap(rf_cm, annot=True, xticklabels=['Predicted Negative', 'Predicted Positive'], \n",
    "            yticklabels=['Real Negative','Real Positive']);"
   ]
  },
  {
   "cell_type": "markdown",
   "metadata": {},
   "source": [
    "The random forest model seems to perform slightly better, but it's still not great. Overall accuracy is up, and it does a marginally better job of detecting longer trips, but at the expense of identifying shorter trips.\n",
    "\n",
    "# Refining the model(s)\n",
    "\n",
    "This time, I'm going to try and incorporate the subscriber-provided gender and birthyear. Even excluding non-subscriber data, there are plenty of datapoints."
   ]
  },
  {
   "cell_type": "code",
   "execution_count": 10,
   "metadata": {},
   "outputs": [
    {
     "data": {
      "text/plain": [
       "start_day        8291009\n",
       "start_weekday    8291009\n",
       "start_hour       8291009\n",
       "from_id          8291009\n",
       "short            8291009\n",
       "gender           8291009\n",
       "cleanyear        8291009\n",
       "dtype: int64"
      ]
     },
     "execution_count": 10,
     "metadata": {},
     "output_type": "execute_result"
    }
   ],
   "source": [
    "sub_df = df[df['usertype']==1].dropna() #only keep if there is gender and birthyear information\n",
    "\n",
    "model2_df = sub_df[['start_day','start_weekday','start_hour','from_id','short','gender','cleanyear']]\n",
    "\n",
    "#verify that the dataframe is set up properly\n",
    "model2_df.count()"
   ]
  },
  {
   "cell_type": "code",
   "execution_count": 49,
   "metadata": {},
   "outputs": [
    {
     "name": "stdout",
     "output_type": "stream",
     "text": [
      "Total trips: 8291009\n",
      "Short trips: 5367953\n",
      "Long trips:  2923056\n",
      "Short/total trips: 0.65\n"
     ]
    }
   ],
   "source": [
    "trip_count = sub_df['short'].count()\n",
    "short_count = sum(sub_df['short'])\n",
    "long_count = trip_count - short_count\n",
    "short_pct = short_count/trip_count\n",
    "\n",
    "print(\"Total trips:\", trip_count)\n",
    "print(\"Short trips:\", short_count)\n",
    "print(\"Long trips: \", long_count)\n",
    "print(\"Short/total trips:\", '{:.2f}'.format(short_pct)) #baseline"
   ]
  },
  {
   "cell_type": "code",
   "execution_count": 11,
   "metadata": {},
   "outputs": [
    {
     "name": "stdout",
     "output_type": "stream",
     "text": [
      "Done!\n"
     ]
    }
   ],
   "source": [
    "X_train, X_test, y_train, y_test = train_test_split(model2_df.drop(['short'],axis=1), model2_df['short'], test_size=0.2, random_state=seed)\n",
    "print(\"Done!\")"
   ]
  },
  {
   "cell_type": "markdown",
   "metadata": {},
   "source": [
    "### Logistic regression model 2"
   ]
  },
  {
   "cell_type": "code",
   "execution_count": 12,
   "metadata": {},
   "outputs": [
    {
     "name": "stdout",
     "output_type": "stream",
     "text": [
      "Running...\n",
      "Logistic regression model trained in 63.0 seconds.\n",
      "\n",
      "LogisticRegression(C=1.0, class_weight=None, dual=False, fit_intercept=True,\n",
      "          intercept_scaling=1, max_iter=100, multi_class='ovr', n_jobs=1,\n",
      "          penalty='l2', random_state=None, solver='liblinear', tol=0.0001,\n",
      "          verbose=0, warm_start=False)\n"
     ]
    }
   ],
   "source": [
    "start = time.mktime(time.localtime())\n",
    "print(\"Running...\") #so I know Jupyter is doing something\n",
    "\n",
    "lr2 = LogisticRegression() #with defaults\n",
    "lr2.fit(X_train,y_train) #fit model to training data\n",
    "\n",
    "duration = time.mktime(time.localtime()) - start\n",
    "print(\"Logistic regression model trained in \"+str(duration)+\" seconds.\") #so I know when Jupyter is done (takes about 60 sec.)\n",
    "print()\n",
    "print(lr2)"
   ]
  },
  {
   "cell_type": "code",
   "execution_count": 44,
   "metadata": {},
   "outputs": [
    {
     "name": "stdout",
     "output_type": "stream",
     "text": [
      "Done!\n"
     ]
    }
   ],
   "source": [
    "#save the model\n",
    "with open('lr2_model.pkl', 'wb') as fid:\n",
    "    pickle.dump(lr2, fid)    \n",
    "\n",
    "#with open('lr2_model.pkl', 'rb') as fid: #to load model from file\n",
    "#    lr2 = pickle.load(fid)\n",
    "print(\"Done!\")"
   ]
  },
  {
   "cell_type": "code",
   "execution_count": 13,
   "metadata": {},
   "outputs": [
    {
     "name": "stdout",
     "output_type": "stream",
     "text": [
      "[[    285  584968]\n",
      " [    238 1072711]]\n"
     ]
    }
   ],
   "source": [
    "#okay, let's test it\n",
    "lr2_pred_test = lr2.predict(X_test)\n",
    "\n",
    "#tn, fp, fn, tp = confusion_matrix()\n",
    "lr2_cm = confusion_matrix(y_test, lr2_pred_test)\n",
    "\n",
    "print(lr2_cm)"
   ]
  },
  {
   "cell_type": "code",
   "execution_count": 48,
   "metadata": {},
   "outputs": [
    {
     "name": "stdout",
     "output_type": "stream",
     "text": [
      "Accuracy (TP+TN/TP+TN+FP+FN): 0.65\n",
      "Sensitivity (TP/TP+FN): 1.0\n",
      "Specificity (TN/TN+FP): 0.00049\n"
     ]
    }
   ],
   "source": [
    "TN = lr2_cm[0][0]\n",
    "FP = lr2_cm[0][1]\n",
    "FN = lr2_cm[1][0]\n",
    "TP = lr2_cm[1][1]\n",
    "\n",
    "print(\"Accuracy (TP+TN/TP+TN+FP+FN):\",'{:.2}'.format((TP+TN)/(TP+TN+FP+FN)))\n",
    "print(\"Sensitivity (TP/TP+FN):\",'{:.2}'.format(TP/(TP+FN)))\n",
    "print(\"Specificity (TN/TN+FP):\",'{:.2}'.format(TN/(TN+FP)))"
   ]
  },
  {
   "cell_type": "code",
   "execution_count": 3,
   "metadata": {},
   "outputs": [
    {
     "ename": "NameError",
     "evalue": "name 'lr2_cm' is not defined",
     "output_type": "error",
     "traceback": [
      "\u001b[1;31m---------------------------------------------------------------------------\u001b[0m",
      "\u001b[1;31mNameError\u001b[0m                                 Traceback (most recent call last)",
      "\u001b[1;32m<ipython-input-3-2e1894eb79c4>\u001b[0m in \u001b[0;36m<module>\u001b[1;34m()\u001b[0m\n\u001b[1;32m----> 1\u001b[1;33m sns.heatmap(lr2_cm, annot=True, xticklabels=['Predicted Negative', 'Predicted Positive'], \n\u001b[0m\u001b[0;32m      2\u001b[0m             yticklabels=['Real Negative','Real Positive']);\n",
      "\u001b[1;31mNameError\u001b[0m: name 'lr2_cm' is not defined"
     ]
    }
   ],
   "source": [
    "sns.heatmap(lr2_cm, annot=True, xticklabels=['Predicted Negative', 'Predicted Positive'], \n",
    "            yticklabels=['Real Negative','Real Positive']);"
   ]
  },
  {
   "cell_type": "markdown",
   "metadata": {},
   "source": [
    "The logistic regression model still performs very poorly, even with the added inputs.\n",
    "\n",
    "\n",
    "### Random forest model 2"
   ]
  },
  {
   "cell_type": "code",
   "execution_count": 38,
   "metadata": {},
   "outputs": [
    {
     "name": "stdout",
     "output_type": "stream",
     "text": [
      "Running...\n",
      "Random forest model trained in 536.0 seconds.\n",
      "\n",
      "RandomForestClassifier(bootstrap=True, class_weight=None, criterion='gini',\n",
      "            max_depth=None, max_features='auto', max_leaf_nodes=None,\n",
      "            min_impurity_split=1e-07, min_samples_leaf=1,\n",
      "            min_samples_split=2, min_weight_fraction_leaf=0.0,\n",
      "            n_estimators=10, n_jobs=1, oob_score=False, random_state=None,\n",
      "            verbose=0, warm_start=False)\n"
     ]
    }
   ],
   "source": [
    "start = time.mktime(time.localtime())\n",
    "print(\"Running...\") #so I know Jupyter is doing something\n",
    "\n",
    "rf2 = RandomForestClassifier()\n",
    "rf2.fit(X_train, y_train)\n",
    "\n",
    "duration = time.mktime(time.localtime()) - start\n",
    "print(\"Random forest model trained in \"+str(duration)+\" seconds.\") #so I know when Jupyter is done (takes about 540 sec.)\n",
    "print()\n",
    "print(rf2)"
   ]
  },
  {
   "cell_type": "code",
   "execution_count": 46,
   "metadata": {},
   "outputs": [
    {
     "name": "stdout",
     "output_type": "stream",
     "text": [
      "Done!\n"
     ]
    }
   ],
   "source": [
    "#save the model\n",
    "with open('rf2_model.pkl', 'wb') as fid:\n",
    "    pickle.dump(rf2, fid)    \n",
    "\n",
    "#with open('rf2_model.pkl', 'rb') as fid: #to load model from file\n",
    "#    rf2 = pickle.load(fid)\n",
    "print(\"Done!\")"
   ]
  },
  {
   "cell_type": "code",
   "execution_count": 39,
   "metadata": {},
   "outputs": [
    {
     "name": "stdout",
     "output_type": "stream",
     "text": [
      "[[310254 274999]\n",
      " [246405 826544]]\n"
     ]
    }
   ],
   "source": [
    "#okay, let's test it\n",
    "rf2_pred_test = rf2.predict(X_test)\n",
    "\n",
    "#tn, fp, fn, tp = confusion_matrix()\n",
    "rf2_cm = confusion_matrix(y_test, rf2_pred_test)\n",
    "print(rf2_cm)"
   ]
  },
  {
   "cell_type": "code",
   "execution_count": 40,
   "metadata": {
    "scrolled": true
   },
   "outputs": [
    {
     "name": "stdout",
     "output_type": "stream",
     "text": [
      "Accuracy (TP+TN/TP+TN+FP+FN): 0.69\n",
      "Sensitivity (TP/TP+FN): 0.77\n",
      "Specificity (TN/TN+FP): 0.53\n"
     ]
    }
   ],
   "source": [
    "TN = rf2_cm[0][0]\n",
    "FP = rf2_cm[0][1]\n",
    "FN = rf2_cm[1][0]\n",
    "TP = rf2_cm[1][1]\n",
    "\n",
    "print(\"Accuracy (TP+TN/TP+TN+FP+FN):\",'{:.2}'.format((TP+TN)/(TP+TN+FP+FN)))\n",
    "print(\"Sensitivity (TP/TP+FN):\",'{:.2}'.format(TP/(TP+FN)))\n",
    "print(\"Specificity (TN/TN+FP):\",'{:.2}'.format(TN/(TN+FP)))"
   ]
  },
  {
   "cell_type": "code",
   "execution_count": 50,
   "metadata": {},
   "outputs": [
    {
     "data": {
      "image/png": "[encoded data removed]",
      "text/plain": [
       "<matplotlib.figure.Figure at 0x23581068128>"
      ]
     },
     "metadata": {},
     "output_type": "display_data"
    }
   ],
   "source": [
    "sns.heatmap(rf2_cm, annot=True, xticklabels=['Predicted Negative', 'Predicted Positive'], \n",
    "            yticklabels=['Real Negative','Real Positive']);"
   ]
  },
  {
   "cell_type": "markdown",
   "metadata": {},
   "source": [
    "The random forest model is very slightly improved with the additional inputs, but it still isn't all that great. Still, it's better than random.\n",
    "\n",
    "# Conclusions\n",
    "\n",
    "This notebook demonstrates the process of combining multiple files into a unified dataset, cleaning it up, and storing it for later analysis. \n",
    "\n",
    "Some basic visualization of the data shows that the distribution between short (< 2 km) and long (>= 2 km) trips is split for all features in a fairly consistent manner. Some features are directly linked to trip distance, so I chose to exclude them from my models. After all, if we know the start and destination locations (even if just the IDs), there's no need to use a predictive model to guess the distance.\n",
    "\n",
    "Given more time, I could try and tune the hyperparameters for the random forest model, or perhaps implement another type of model. However, it's also possible that the provided data doesn't give enough signal to generate strong predictions for trip length based on only the starting date/time, starting location, and user profile. \n",
    "\n",
    "A quick Internet search of other analyses of the Divvy data suggests that adding weather data might further inform the model, but it seems to primarily impact trip duration."
   ]
  },
  {
   "cell_type": "code",
   "execution_count": null,
   "metadata": {
    "collapsed": true
   },
   "outputs": [],
   "source": []
  }
 ],
 "metadata": {
  "kernelspec": {
   "display_name": "Python 3",
   "language": "python",
   "name": "python3"
  },
  "language_info": {
   "codemirror_mode": {
    "name": "ipython",
    "version": 3
   },
   "file_extension": ".py",
   "mimetype": "text/x-python",
   "name": "python",
   "nbconvert_exporter": "python",
   "pygments_lexer": "ipython3",
   "version": "3.6.1"
  }
 },
 "nbformat": 4,
 "nbformat_minor": 2
}
