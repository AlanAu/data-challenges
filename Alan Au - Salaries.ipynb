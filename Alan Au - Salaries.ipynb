{
 "cells": [
  {
   "cell_type": "markdown",
   "metadata": {},
   "source": [
    "# Data Challenge - Salary Dataset (Alan Au)\n",
    "\n",
    "### Assignment Description:\n",
    "\n",
    "It’s helpful if we can suggest an approximate salary to job seekers for a given job post. Unfortunately, not all job postings designate the salary. This is where you come in: Your first task is to develop a salary prediction system.\n",
    "\n",
    "The goal: provide estimated salaries for a new job posting.\n",
    "\n",
    "\n",
    "### Data supplied:\n",
    "\n",
    "You are given three CSV (comma--separated) data files:\n",
    "\n",
    "* train_features_DATE.csv: Each row represents metadata for an individual job posting. The “jobId” column represents a unique identifier for the job posting. The remaining columns describe features of the job posting.\n",
    "* train_salaries_DATE.csv: Each row associates a “jobId” with a “salary”.\n",
    "* test_features_DATE.csv: Similar to train_features_DATE.csv, each row represents metadata for an individual job posting.\n",
    "\n",
    "The first row of each file contains headers for the columns. Keep in mind that the metadata and\n",
    "salary data has been extracted by our aggregation and parsing systems. As such, it’s possible\n",
    "that the data is dirty (may contain errors).\n",
    "\n",
    "### The task\n",
    "\n",
    "You must build a model to predict the salaries for the job postings contained in test_features_DATE.csv. The output of your system should be a CSV file entitled **test_salaries.csv** where each row has the following format: jobId, salary\n",
    "As a reference, your output should mirror the format of train_salaries_DATE.csv."
   ]
  },
  {
   "cell_type": "markdown",
   "metadata": {},
   "source": [
    "# Alan's Notes\n",
    "\n",
    "* Import packages and files\n",
    "* Inspect files\n",
    "* Summarize and visualize data\n",
    "* Choose model (probably a Random Forest Regressor)\n",
    "* Train/test split on training data? (not needed for Random Forest)\n",
    "* Evaluate model (out of bag)\n",
    "* Get feature importance listing\n",
    "* Run test data\n",
    "* Cleanup and presentation"
   ]
  },
  {
   "cell_type": "code",
   "execution_count": 1,
   "metadata": {},
   "outputs": [
    {
     "name": "stdout",
     "output_type": "stream",
     "text": [
      "Pseudorandom seed is: 7979\n"
     ]
    }
   ],
   "source": [
    "#!/usr/bin/python3\n",
    "__author__ = 'Alan Au'\n",
    "__date__   = '2018-04-11'\n",
    "\n",
    "import numpy as np\n",
    "import pandas as pd\n",
    "import random\n",
    "\n",
    "import matplotlib.pyplot as plt\n",
    "%matplotlib inline\n",
    "plt.rcParams[\"figure.figsize\"] = [15,5] #make the plots bigger and easier to read\n",
    "#import seaborn as sns\n",
    "\n",
    "#from sklearn.model_selection import train_test_split\n",
    "from sklearn.ensemble import RandomForestRegressor\n",
    "from sklearn import preprocessing\n",
    "#from sklearn.pipeline import Pipeline\n",
    "\n",
    "#seed = int(random.random()*10000) #generate a random number between 0 and 10000\n",
    "seed = 7979 #for consistency during testing, just keep the same pseudorandomly generated seed\n",
    "print(\"Pseudorandom seed is:\",seed)"
   ]
  },
  {
   "cell_type": "code",
   "execution_count": 2,
   "metadata": {},
   "outputs": [
    {
     "data": {
      "text/plain": [
       "jobId                  1000000\n",
       "companyId              1000000\n",
       "jobType                1000000\n",
       "degree                  762533\n",
       "major                   465932\n",
       "industry               1000000\n",
       "yearsExperience        1000000\n",
       "milesFromMetropolis    1000000\n",
       "dtype: int64"
      ]
     },
     "execution_count": 2,
     "metadata": {},
     "output_type": "execute_result"
    }
   ],
   "source": [
    "data_loc = './Salaries/' #path to my data file subdirectory; must end with '/'\n",
    "\n",
    "# pre-specified\n",
    "f_train_x = data_loc + 'test_features_2013-03-07.csv'\n",
    "f_train_y = data_loc + 'train_salaries_2013-03-07.csv'\n",
    "f_test_x = data_loc + 'test_features_2013-03-07.csv'\n",
    "\n",
    "# generate this\n",
    "f_test_y = data_loc + 'test_salaries.csv'\n",
    "\n",
    "# for reference\n",
    "headers_x = ['jobId','companyId','jobType','degree','major','industry','yearsExperience','milesFromMetropolis']\n",
    "headers_y = ['jobId','salary']\n",
    "\n",
    "# load data\n",
    "# Treat 'NONE' as missing data for now--if it's meaningful, can re-import as-is.\n",
    "explore_x_df = pd.read_csv(f_train_x, header='infer', na_values='NONE')\n",
    "explore_y_df = pd.read_csv(f_train_y, header='infer', na_values='NONE')\n",
    "\n",
    "# Check for missing/'NONE' values.\n",
    "explore_x_df.count()"
   ]
  },
  {
   "cell_type": "code",
   "execution_count": 3,
   "metadata": {},
   "outputs": [
    {
     "data": {
      "text/html": [
       "<div>\n",
       "<style>\n",
       "    .dataframe thead tr:only-child th {\n",
       "        text-align: right;\n",
       "    }\n",
       "\n",
       "    .dataframe thead th {\n",
       "        text-align: left;\n",
       "    }\n",
       "\n",
       "    .dataframe tbody tr th {\n",
       "        vertical-align: top;\n",
       "    }\n",
       "</style>\n",
       "<table border=\"1\" class=\"dataframe\">\n",
       "  <thead>\n",
       "    <tr style=\"text-align: right;\">\n",
       "      <th></th>\n",
       "      <th>jobId</th>\n",
       "      <th>companyId</th>\n",
       "      <th>jobType</th>\n",
       "      <th>degree</th>\n",
       "      <th>major</th>\n",
       "      <th>industry</th>\n",
       "      <th>yearsExperience</th>\n",
       "      <th>milesFromMetropolis</th>\n",
       "    </tr>\n",
       "  </thead>\n",
       "  <tbody>\n",
       "    <tr>\n",
       "      <th>2670</th>\n",
       "      <td>JOB1362685410357</td>\n",
       "      <td>COMP48</td>\n",
       "      <td>SENIOR</td>\n",
       "      <td>NONE</td>\n",
       "      <td>NONE</td>\n",
       "      <td>EDUCATION</td>\n",
       "      <td>8</td>\n",
       "      <td>94</td>\n",
       "    </tr>\n",
       "    <tr>\n",
       "      <th>586714</th>\n",
       "      <td>JOB1362685994401</td>\n",
       "      <td>COMP47</td>\n",
       "      <td>VICE_PRESIDENT</td>\n",
       "      <td>BACHELORS</td>\n",
       "      <td>LITERATURE</td>\n",
       "      <td>HEALTH</td>\n",
       "      <td>19</td>\n",
       "      <td>95</td>\n",
       "    </tr>\n",
       "    <tr>\n",
       "      <th>683694</th>\n",
       "      <td>JOB1362686091381</td>\n",
       "      <td>COMP2</td>\n",
       "      <td>JANITOR</td>\n",
       "      <td>NONE</td>\n",
       "      <td>NONE</td>\n",
       "      <td>EDUCATION</td>\n",
       "      <td>14</td>\n",
       "      <td>66</td>\n",
       "    </tr>\n",
       "    <tr>\n",
       "      <th>60359</th>\n",
       "      <td>JOB1362685468046</td>\n",
       "      <td>COMP61</td>\n",
       "      <td>VICE_PRESIDENT</td>\n",
       "      <td>HIGH_SCHOOL</td>\n",
       "      <td>NONE</td>\n",
       "      <td>AUTO</td>\n",
       "      <td>4</td>\n",
       "      <td>85</td>\n",
       "    </tr>\n",
       "    <tr>\n",
       "      <th>51183</th>\n",
       "      <td>JOB1362685458870</td>\n",
       "      <td>COMP50</td>\n",
       "      <td>CTO</td>\n",
       "      <td>BACHELORS</td>\n",
       "      <td>ENGINEERING</td>\n",
       "      <td>AUTO</td>\n",
       "      <td>11</td>\n",
       "      <td>46</td>\n",
       "    </tr>\n",
       "    <tr>\n",
       "      <th>256723</th>\n",
       "      <td>JOB1362685664410</td>\n",
       "      <td>COMP43</td>\n",
       "      <td>JANITOR</td>\n",
       "      <td>HIGH_SCHOOL</td>\n",
       "      <td>NONE</td>\n",
       "      <td>HEALTH</td>\n",
       "      <td>12</td>\n",
       "      <td>6</td>\n",
       "    </tr>\n",
       "    <tr>\n",
       "      <th>39612</th>\n",
       "      <td>JOB1362685447299</td>\n",
       "      <td>COMP11</td>\n",
       "      <td>SENIOR</td>\n",
       "      <td>DOCTORAL</td>\n",
       "      <td>NONE</td>\n",
       "      <td>AUTO</td>\n",
       "      <td>24</td>\n",
       "      <td>27</td>\n",
       "    </tr>\n",
       "    <tr>\n",
       "      <th>944700</th>\n",
       "      <td>JOB1362686352387</td>\n",
       "      <td>COMP7</td>\n",
       "      <td>JANITOR</td>\n",
       "      <td>HIGH_SCHOOL</td>\n",
       "      <td>NONE</td>\n",
       "      <td>WEB</td>\n",
       "      <td>15</td>\n",
       "      <td>60</td>\n",
       "    </tr>\n",
       "    <tr>\n",
       "      <th>980094</th>\n",
       "      <td>JOB1362686387781</td>\n",
       "      <td>COMP58</td>\n",
       "      <td>CFO</td>\n",
       "      <td>HIGH_SCHOOL</td>\n",
       "      <td>NONE</td>\n",
       "      <td>HEALTH</td>\n",
       "      <td>2</td>\n",
       "      <td>84</td>\n",
       "    </tr>\n",
       "    <tr>\n",
       "      <th>306061</th>\n",
       "      <td>JOB1362685713748</td>\n",
       "      <td>COMP35</td>\n",
       "      <td>JANITOR</td>\n",
       "      <td>NONE</td>\n",
       "      <td>NONE</td>\n",
       "      <td>SERVICE</td>\n",
       "      <td>11</td>\n",
       "      <td>42</td>\n",
       "    </tr>\n",
       "  </tbody>\n",
       "</table>\n",
       "</div>"
      ],
      "text/plain": [
       "                   jobId companyId         jobType       degree        major  \\\n",
       "2670    JOB1362685410357    COMP48          SENIOR         NONE         NONE   \n",
       "586714  JOB1362685994401    COMP47  VICE_PRESIDENT    BACHELORS   LITERATURE   \n",
       "683694  JOB1362686091381     COMP2         JANITOR         NONE         NONE   \n",
       "60359   JOB1362685468046    COMP61  VICE_PRESIDENT  HIGH_SCHOOL         NONE   \n",
       "51183   JOB1362685458870    COMP50             CTO    BACHELORS  ENGINEERING   \n",
       "256723  JOB1362685664410    COMP43         JANITOR  HIGH_SCHOOL         NONE   \n",
       "39612   JOB1362685447299    COMP11          SENIOR     DOCTORAL         NONE   \n",
       "944700  JOB1362686352387     COMP7         JANITOR  HIGH_SCHOOL         NONE   \n",
       "980094  JOB1362686387781    COMP58             CFO  HIGH_SCHOOL         NONE   \n",
       "306061  JOB1362685713748    COMP35         JANITOR         NONE         NONE   \n",
       "\n",
       "         industry  yearsExperience  milesFromMetropolis  \n",
       "2670    EDUCATION                8                   94  \n",
       "586714     HEALTH               19                   95  \n",
       "683694  EDUCATION               14                   66  \n",
       "60359        AUTO                4                   85  \n",
       "51183        AUTO               11                   46  \n",
       "256723     HEALTH               12                    6  \n",
       "39612        AUTO               24                   27  \n",
       "944700        WEB               15                   60  \n",
       "980094     HEALTH                2                   84  \n",
       "306061    SERVICE               11                   42  "
      ]
     },
     "execution_count": 3,
     "metadata": {},
     "output_type": "execute_result"
    }
   ],
   "source": [
    "# this time, keep the 'NONE' values\n",
    "train_x_df = pd.read_csv(f_train_x, header='infer')\n",
    "train_y_df = pd.read_csv(f_train_y, header='infer')\n",
    "test_x_df = pd.read_csv(f_test_x, header='infer')\n",
    "\n",
    "# Check a few random rows to make sure I loaded this correctly\n",
    "train_x_df.sample(10)"
   ]
  },
  {
   "cell_type": "code",
   "execution_count": 4,
   "metadata": {},
   "outputs": [
    {
     "data": {
      "text/plain": [
       "jobId     1000000\n",
       "salary    1000000\n",
       "dtype: int64"
      ]
     },
     "execution_count": 4,
     "metadata": {},
     "output_type": "execute_result"
    }
   ],
   "source": [
    "# Verify count for outputs\n",
    "train_y_df.count()"
   ]
  },
  {
   "cell_type": "markdown",
   "metadata": {},
   "source": [
    "# Basic Data Exploration"
   ]
  },
  {
   "cell_type": "code",
   "execution_count": null,
   "metadata": {},
   "outputs": [],
   "source": [
    "# What are all of the companies?\n",
    "companies = train_x_df['companyId']\n",
    "companies.value_counts()"
   ]
  },
  {
   "cell_type": "code",
   "execution_count": null,
   "metadata": {},
   "outputs": [],
   "source": [
    "# What are all of the job types?\n",
    "jobTypes = train_x_df['jobType']\n",
    "jobTypes.value_counts()"
   ]
  },
  {
   "cell_type": "code",
   "execution_count": null,
   "metadata": {},
   "outputs": [],
   "source": [
    "# What are all of the degrees?\n",
    "degrees = train_x_df['degree']\n",
    "degrees.value_counts()"
   ]
  },
  {
   "cell_type": "code",
   "execution_count": null,
   "metadata": {},
   "outputs": [],
   "source": [
    "# What are all of the majors?\n",
    "majors = train_x_df['major']\n",
    "majors.value_counts()"
   ]
  },
  {
   "cell_type": "code",
   "execution_count": null,
   "metadata": {},
   "outputs": [],
   "source": [
    "# What are all of the industries?\n",
    "industries = train_x_df['industry']\n",
    "industries.value_counts()"
   ]
  },
  {
   "cell_type": "code",
   "execution_count": null,
   "metadata": {},
   "outputs": [],
   "source": [
    "# What's the range of years experience?\n",
    "train_x_df.sort_values(by=['yearsExperience'])\n",
    "years = train_x_df['yearsExperience']\n",
    "\n",
    "# List the yearsExperience and their count\n",
    "years.value_counts().sort_index()\n",
    "\n",
    "#plt.hist(years,bins=25); # Can plot this if helpful"
   ]
  },
  {
   "cell_type": "code",
   "execution_count": null,
   "metadata": {},
   "outputs": [],
   "source": [
    "# What's the range of miles from metropolis?\n",
    "dists = train_x_df['milesFromMetropolis']\n",
    "dists.value_counts().sort_index()\n",
    "\n",
    "#plt.hist(dists,bins=100); # Can plot this if helpful"
   ]
  },
  {
   "cell_type": "markdown",
   "metadata": {},
   "source": [
    "# Secondary Data Exploration"
   ]
  },
  {
   "cell_type": "code",
   "execution_count": null,
   "metadata": {},
   "outputs": [],
   "source": [
    "# What's my distribution of jobTypes without a major?\n",
    "jobTypes_no_maj = train_x_df[train_x_df['major'] == 'NONE']['jobType']\n",
    "jobTypes_no_maj.value_counts()"
   ]
  },
  {
   "cell_type": "code",
   "execution_count": null,
   "metadata": {},
   "outputs": [],
   "source": [
    "# What's my distribution of jobTypes without a degree?\n",
    "jobTypes_no_deg = train_x_df[train_x_df['degree'] == 'NONE']['jobType']\n",
    "jobTypes_no_deg.value_counts()"
   ]
  },
  {
   "cell_type": "markdown",
   "metadata": {},
   "source": [
    "# Salary (Outcome) Data"
   ]
  },
  {
   "cell_type": "code",
   "execution_count": null,
   "metadata": {},
   "outputs": [],
   "source": [
    "# What's the range of salaries?\n",
    "salaries = set(train_y_df['salary'])\n",
    "print(\"Salary range:\", min(salaries), max(salaries))\n",
    "num_bins = max(salaries) - min(salaries)\n",
    "\n",
    "# What's the distribution of salary data?\n",
    "plt.hist(sorted(train_y_df['salary']), bins=num_bins);\n",
    "plt.xlabel('Salary ($k)', fontsize = '20');\n",
    "plt.ylabel('Number of listings', fontsize = '20');"
   ]
  },
  {
   "cell_type": "code",
   "execution_count": null,
   "metadata": {},
   "outputs": [],
   "source": [
    "# Any 0-salary listings in our training set?\n",
    "train_y_df[train_y_df['salary']<=0].count()"
   ]
  },
  {
   "cell_type": "code",
   "execution_count": null,
   "metadata": {},
   "outputs": [],
   "source": [
    "# What about really low-salary listings in our training set?\n",
    "train_y_df[train_y_df['salary']<=5].count()  # Pick some low threshold, like 5k annual salary."
   ]
  },
  {
   "cell_type": "code",
   "execution_count": null,
   "metadata": {},
   "outputs": [],
   "source": [
    "# Probably bad data, so let's take a look.\n",
    "train_x_df[train_y_df['salary']<=5]"
   ]
  },
  {
   "cell_type": "code",
   "execution_count": null,
   "metadata": {},
   "outputs": [],
   "source": [
    "# Sanity check; what's my distribution of salaries without a degree?\n",
    "salary_no_deg = train_y_df[train_x_df['degree'] == 'NONE']['salary']\n",
    "num_bins = max(salary_no_deg) - min(salary_no_deg)\n",
    "\n",
    "plt.hist(sorted(salary_no_deg), bins=num_bins); #based on salary range\n",
    "plt.xlabel('Salary without degree ($k)', fontsize = '20');\n",
    "plt.ylabel('Number of listings', fontsize = '20');"
   ]
  },
  {
   "cell_type": "code",
   "execution_count": null,
   "metadata": {},
   "outputs": [],
   "source": [
    "# Sanity check; what's my distribution of salaries without a major?\n",
    "salary_no_maj = train_y_df[train_x_df['major'] == 'NONE']['salary']\n",
    "num_bins = max(salary_no_maj) - min(salary_no_maj)\n",
    "\n",
    "plt.hist(sorted(salary_no_maj), bins=num_bins); #based on salary range\n",
    "plt.xlabel('Salary without major ($k)', fontsize = '20');\n",
    "plt.ylabel('Number of listings', fontsize = '20');"
   ]
  },
  {
   "cell_type": "markdown",
   "metadata": {},
   "source": [
    "## Data Exploration Notes\n",
    "\n",
    "The feature data contains 'NONE' values. In cases where the degree is \"High School\" then there's no corresponding major, which is expected. \n",
    "\n",
    "Currently, it's about 24% of the 'degree' data and 54% of the 'major' data. It's a large enough percentage that I don't want to drop it, it appears to be distributed across the dataset, and if I use a tree-based model, it may end being useful. But if the model performs badly, I may re-evaluate.\n",
    "\n",
    "On the other hand, 0-salary results are not useful, and there are so few that it's probably safe to drop them."
   ]
  },
  {
   "cell_type": "markdown",
   "metadata": {
    "collapsed": true
   },
   "source": [
    "# Model Building\n",
    "\n",
    "I'm going to start with a Random Forest Regression model."
   ]
  },
  {
   "cell_type": "code",
   "execution_count": 5,
   "metadata": {},
   "outputs": [
    {
     "data": {
      "text/plain": [
       "jobId                  999995\n",
       "companyId              999995\n",
       "jobType                999995\n",
       "degree                 999995\n",
       "major                  999995\n",
       "industry               999995\n",
       "yearsExperience        999995\n",
       "milesFromMetropolis    999995\n",
       "dtype: int64"
      ]
     },
     "execution_count": 5,
     "metadata": {},
     "output_type": "execute_result"
    }
   ],
   "source": [
    "# Keep data where salary is in a reasonable range (i.e. >5). Also keep 'NONE' values.\n",
    "clean_y_df = train_y_df[train_y_df['salary']>=5]\n",
    "clean_x_df = train_x_df[train_y_df['salary']>=5]\n",
    "clean_x_df.count()"
   ]
  },
  {
   "cell_type": "code",
   "execution_count": 6,
   "metadata": {},
   "outputs": [
    {
     "data": {
      "text/html": [
       "<div>\n",
       "<style>\n",
       "    .dataframe thead tr:only-child th {\n",
       "        text-align: right;\n",
       "    }\n",
       "\n",
       "    .dataframe thead th {\n",
       "        text-align: left;\n",
       "    }\n",
       "\n",
       "    .dataframe tbody tr th {\n",
       "        vertical-align: top;\n",
       "    }\n",
       "</style>\n",
       "<table border=\"1\" class=\"dataframe\">\n",
       "  <thead>\n",
       "    <tr style=\"text-align: right;\">\n",
       "      <th></th>\n",
       "      <th>COMP0</th>\n",
       "      <th>COMP1</th>\n",
       "      <th>COMP10</th>\n",
       "      <th>COMP11</th>\n",
       "      <th>COMP12</th>\n",
       "      <th>COMP13</th>\n",
       "      <th>COMP14</th>\n",
       "      <th>COMP15</th>\n",
       "      <th>COMP16</th>\n",
       "      <th>COMP17</th>\n",
       "      <th>...</th>\n",
       "      <th>PHYSICS</th>\n",
       "      <th>AUTO</th>\n",
       "      <th>EDUCATION</th>\n",
       "      <th>FINANCE</th>\n",
       "      <th>HEALTH</th>\n",
       "      <th>OIL</th>\n",
       "      <th>SERVICE</th>\n",
       "      <th>WEB</th>\n",
       "      <th>yearsExperience</th>\n",
       "      <th>milesFromMetropolis</th>\n",
       "    </tr>\n",
       "  </thead>\n",
       "  <tbody>\n",
       "    <tr>\n",
       "      <th>22491</th>\n",
       "      <td>0</td>\n",
       "      <td>0</td>\n",
       "      <td>0</td>\n",
       "      <td>0</td>\n",
       "      <td>1</td>\n",
       "      <td>0</td>\n",
       "      <td>0</td>\n",
       "      <td>0</td>\n",
       "      <td>0</td>\n",
       "      <td>0</td>\n",
       "      <td>...</td>\n",
       "      <td>0</td>\n",
       "      <td>0</td>\n",
       "      <td>0</td>\n",
       "      <td>0</td>\n",
       "      <td>1</td>\n",
       "      <td>0</td>\n",
       "      <td>0</td>\n",
       "      <td>0</td>\n",
       "      <td>21</td>\n",
       "      <td>35</td>\n",
       "    </tr>\n",
       "    <tr>\n",
       "      <th>239992</th>\n",
       "      <td>0</td>\n",
       "      <td>0</td>\n",
       "      <td>0</td>\n",
       "      <td>0</td>\n",
       "      <td>0</td>\n",
       "      <td>0</td>\n",
       "      <td>0</td>\n",
       "      <td>0</td>\n",
       "      <td>0</td>\n",
       "      <td>0</td>\n",
       "      <td>...</td>\n",
       "      <td>0</td>\n",
       "      <td>1</td>\n",
       "      <td>0</td>\n",
       "      <td>0</td>\n",
       "      <td>0</td>\n",
       "      <td>0</td>\n",
       "      <td>0</td>\n",
       "      <td>0</td>\n",
       "      <td>1</td>\n",
       "      <td>61</td>\n",
       "    </tr>\n",
       "    <tr>\n",
       "      <th>240128</th>\n",
       "      <td>0</td>\n",
       "      <td>0</td>\n",
       "      <td>0</td>\n",
       "      <td>0</td>\n",
       "      <td>0</td>\n",
       "      <td>0</td>\n",
       "      <td>0</td>\n",
       "      <td>0</td>\n",
       "      <td>0</td>\n",
       "      <td>0</td>\n",
       "      <td>...</td>\n",
       "      <td>1</td>\n",
       "      <td>0</td>\n",
       "      <td>0</td>\n",
       "      <td>1</td>\n",
       "      <td>0</td>\n",
       "      <td>0</td>\n",
       "      <td>0</td>\n",
       "      <td>0</td>\n",
       "      <td>12</td>\n",
       "      <td>16</td>\n",
       "    </tr>\n",
       "    <tr>\n",
       "      <th>715459</th>\n",
       "      <td>0</td>\n",
       "      <td>0</td>\n",
       "      <td>0</td>\n",
       "      <td>0</td>\n",
       "      <td>0</td>\n",
       "      <td>0</td>\n",
       "      <td>0</td>\n",
       "      <td>0</td>\n",
       "      <td>0</td>\n",
       "      <td>0</td>\n",
       "      <td>...</td>\n",
       "      <td>0</td>\n",
       "      <td>0</td>\n",
       "      <td>0</td>\n",
       "      <td>1</td>\n",
       "      <td>0</td>\n",
       "      <td>0</td>\n",
       "      <td>0</td>\n",
       "      <td>0</td>\n",
       "      <td>23</td>\n",
       "      <td>77</td>\n",
       "    </tr>\n",
       "    <tr>\n",
       "      <th>828313</th>\n",
       "      <td>0</td>\n",
       "      <td>0</td>\n",
       "      <td>0</td>\n",
       "      <td>0</td>\n",
       "      <td>0</td>\n",
       "      <td>0</td>\n",
       "      <td>0</td>\n",
       "      <td>0</td>\n",
       "      <td>0</td>\n",
       "      <td>0</td>\n",
       "      <td>...</td>\n",
       "      <td>0</td>\n",
       "      <td>1</td>\n",
       "      <td>0</td>\n",
       "      <td>0</td>\n",
       "      <td>0</td>\n",
       "      <td>0</td>\n",
       "      <td>0</td>\n",
       "      <td>0</td>\n",
       "      <td>5</td>\n",
       "      <td>41</td>\n",
       "    </tr>\n",
       "  </tbody>\n",
       "</table>\n",
       "<p>5 rows × 94 columns</p>\n",
       "</div>"
      ],
      "text/plain": [
       "        COMP0  COMP1  COMP10  COMP11  COMP12  COMP13  COMP14  COMP15  COMP16  \\\n",
       "22491       0      0       0       0       1       0       0       0       0   \n",
       "239992      0      0       0       0       0       0       0       0       0   \n",
       "240128      0      0       0       0       0       0       0       0       0   \n",
       "715459      0      0       0       0       0       0       0       0       0   \n",
       "828313      0      0       0       0       0       0       0       0       0   \n",
       "\n",
       "        COMP17         ...           PHYSICS  AUTO  EDUCATION  FINANCE  \\\n",
       "22491        0         ...                 0     0          0        0   \n",
       "239992       0         ...                 0     1          0        0   \n",
       "240128       0         ...                 1     0          0        1   \n",
       "715459       0         ...                 0     0          0        1   \n",
       "828313       0         ...                 0     1          0        0   \n",
       "\n",
       "        HEALTH  OIL  SERVICE  WEB  yearsExperience  milesFromMetropolis  \n",
       "22491        1    0        0    0               21                   35  \n",
       "239992       0    0        0    0                1                   61  \n",
       "240128       0    0        0    0               12                   16  \n",
       "715459       0    0        0    0               23                   77  \n",
       "828313       0    0        0    0                5                   41  \n",
       "\n",
       "[5 rows x 94 columns]"
      ]
     },
     "execution_count": 6,
     "metadata": {},
     "output_type": "execute_result"
    }
   ],
   "source": [
    "# Build a model dataframe; note that I'm excluding the jobId\n",
    "categorical = ['companyId','jobType','degree','major','industry']\n",
    "continuous = ['yearsExperience','milesFromMetropolis']\n",
    "\n",
    "model_df = pd.DataFrame()\n",
    "test_df = pd.DataFrame()\n",
    "\n",
    "for cat in list(categorical):\n",
    "    model_df = pd.concat([model_df,pd.get_dummies(clean_x_df[cat])],axis=1)\n",
    "    test_df = pd.concat([test_df,pd.get_dummies(test_x_df[cat])],axis=1)\n",
    "for cat in list(continuous):\n",
    "    model_df = pd.concat([model_df,clean_x_df[cat]],axis=1)\n",
    "    test_df = pd.concat([test_df,test_x_df[cat]],axis=1)\n",
    "\n",
    "model_df.sample(5)"
   ]
  },
  {
   "cell_type": "code",
   "execution_count": 7,
   "metadata": {},
   "outputs": [
    {
     "data": {
      "text/plain": [
       "0    130\n",
       "1    101\n",
       "2    137\n",
       "3    142\n",
       "4    163\n",
       "Name: salary, dtype: int64"
      ]
     },
     "execution_count": 7,
     "metadata": {},
     "output_type": "execute_result"
    }
   ],
   "source": [
    "# Remove the jobId, which doesn't provide useful information\n",
    "model_y = clean_y_df.drop(['jobId'],axis=1)['salary']\n",
    "model_y.head(5)"
   ]
  },
  {
   "cell_type": "code",
   "execution_count": null,
   "metadata": {},
   "outputs": [],
   "source": [
    "# Hyperparamters\n",
    "max_depth = None\n",
    "max_trees = 40\n",
    "\n",
    "regr_rf = RandomForestRegressor(n_estimators = max_trees, \n",
    "                                max_depth=max_depth, random_state=seed, \n",
    "                                oob_score=True, warm_start=False)\n",
    "regr_rf.fit(model_df, model_y)\n",
    "\n",
    "# For reporting\n",
    "importances = regr_rf.feature_importances_\n",
    "oob = regr_rf.oob_score_ #Interpret like an R2 score\n",
    "\n",
    "print(\"Feature names:\", list(model_df))\n",
    "print(\"Feature importance:\",importances)\n",
    "print(\"OOB score is:\",oob)"
   ]
  },
  {
   "cell_type": "code",
   "execution_count": null,
   "metadata": {
    "collapsed": true
   },
   "outputs": [],
   "source": []
  }
 ],
 "metadata": {
  "kernelspec": {
   "display_name": "Python 3",
   "language": "python",
   "name": "python3"
  },
  "language_info": {
   "codemirror_mode": {
    "name": "ipython",
    "version": 3
   },
   "file_extension": ".py",
   "mimetype": "text/x-python",
   "name": "python",
   "nbconvert_exporter": "python",
   "pygments_lexer": "ipython3",
   "version": "3.6.1"
  }
 },
 "nbformat": 4,
 "nbformat_minor": 2
}
