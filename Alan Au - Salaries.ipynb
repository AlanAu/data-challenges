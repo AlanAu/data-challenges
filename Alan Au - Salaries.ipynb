{
 "cells": [
  {
   "cell_type": "markdown",
   "metadata": {},
   "source": [
    "# Data Challenge - Salary Dataset (Alan Au)\n",
    "\n",
    "### Assignment Description:\n",
    "\n",
    "It’s helpful if we can suggest an approximate salary to job seekers for a given job post. Unfortunately, not all job postings designate the salary. This is where you come in: Your first task is to develop a salary prediction system.\n",
    "\n",
    "The goal: provide estimated salaries for a new job posting.\n",
    "\n",
    "\n",
    "### Data supplied:\n",
    "\n",
    "You are given three CSV (comma--separated) data files:\n",
    "\n",
    "* train_features_DATE.csv: Each row represents metadata for an individual job posting. The “jobId” column represents a unique identifier for the job posting. The remaining columns describe features of the job posting.\n",
    "* train_salaries_DATE.csv: Each row associates a “jobId” with a “salary”.\n",
    "* test_features_DATE.csv: Similar to train_features_DATE.csv, each row represents metadata for an individual job posting.\n",
    "\n",
    "The first row of each file contains headers for the columns. Keep in mind that the metadata and\n",
    "salary data has been extracted by our aggregation and parsing systems. As such, it’s possible\n",
    "that the data is dirty (may contain errors).\n",
    "\n",
    "### The task\n",
    "\n",
    "You must build a model to predict the salaries for the job postings contained in test_features_DATE.csv. The output of your system should be a CSV file entitled **test_salaries.csv** where each row has the following format: jobId, salary\n",
    "As a reference, your output should mirror the format of train_salaries_DATE.csv."
   ]
  },
  {
   "cell_type": "markdown",
   "metadata": {},
   "source": [
    "# Alan's Notes\n",
    "\n",
    "* Import packages and files\n",
    "* Inspect files\n",
    "* Summarize and visualize data\n",
    "* Choose model (probably a Random Forest Regressor)\n",
    "* Train/test split on training data? (not needed for Random Forest)\n",
    "* Evaluate model (out of bag)\n",
    "* Get feature importance listing\n",
    "* Run test data\n",
    "* Cleanup and presentation"
   ]
  },
  {
   "cell_type": "code",
   "execution_count": 109,
   "metadata": {},
   "outputs": [
    {
     "name": "stdout",
     "output_type": "stream",
     "text": [
      "Pseudorandom seed is: 7979\n"
     ]
    }
   ],
   "source": [
    "#!/usr/bin/python3\n",
    "__author__ = 'Alan Au'\n",
    "__date__   = '2018-04-09'\n",
    "\n",
    "import numpy as np\n",
    "import pandas as pd\n",
    "import random\n",
    "\n",
    "import matplotlib.pyplot as plt\n",
    "%matplotlib inline\n",
    "plt.rcParams[\"figure.figsize\"] = [15,5] #make the plots bigger and easier to read\n",
    "\n",
    "#from sklearn.model_selection import train_test_split\n",
    "from sklearn.ensemble import RandomForestRegressor\n",
    "\n",
    "#seed = int(random.random()*10000) #generate a random number between 0 and 10000\n",
    "seed = 7979 #for consistency during testing, just keep the same pseudorandomly generated seed\n",
    "print(\"Pseudorandom seed is:\",seed)"
   ]
  },
  {
   "cell_type": "code",
   "execution_count": 162,
   "metadata": {},
   "outputs": [],
   "source": [
    "data_loc = './Salaries/' #path to my data file subdirectory; must end with '/'\n",
    "\n",
    "# pre-specified\n",
    "f_train_x = data_loc + 'test_features_2013-03-07.csv'\n",
    "f_train_y = data_loc + 'train_salaries_2013-03-07.csv'\n",
    "f_test_x = data_loc + 'test_features_2013-03-07.csv'\n",
    "\n",
    "# generate this\n",
    "f_test_y = data_loc + 'test_salaries.csv'\n",
    "\n",
    "# for reference\n",
    "headers_x = ['jobId','companyId','jobType','degree','major','industry','yearsExperience','milesFromMetropolis']\n",
    "headers_y = ['jobId','salary']\n",
    "\n",
    "# load data\n",
    "# Treat 'NONE' as missing data for now--if it's meaningful, can re-import as-is.\n",
    "explore_x_df = pd.read_csv(f_train_x, header='infer', na_values='NONE')\n",
    "explore_y_df = pd.read_csv(f_train_y, header='infer', na_values='NONE')"
   ]
  },
  {
   "cell_type": "code",
   "execution_count": 163,
   "metadata": {},
   "outputs": [
    {
     "data": {
      "text/plain": [
       "jobId                  1000000\n",
       "companyId              1000000\n",
       "jobType                1000000\n",
       "degree                  762533\n",
       "major                   465932\n",
       "industry               1000000\n",
       "yearsExperience        1000000\n",
       "milesFromMetropolis    1000000\n",
       "dtype: int64"
      ]
     },
     "execution_count": 163,
     "metadata": {},
     "output_type": "execute_result"
    }
   ],
   "source": [
    "# Check for missing/'NONE' values.\n",
    "explore_x_df.count()"
   ]
  },
  {
   "cell_type": "code",
   "execution_count": 164,
   "metadata": {
    "collapsed": true
   },
   "outputs": [],
   "source": [
    "# this time, keep the 'NONE' values\n",
    "train_x_df = pd.read_csv(f_train_x, header='infer')\n",
    "train_y_df = pd.read_csv(f_train_y, header='infer')\n",
    "test_x_df = pd.read_csv(f_test_x, header='infer')"
   ]
  },
  {
   "cell_type": "code",
   "execution_count": 165,
   "metadata": {},
   "outputs": [
    {
     "data": {
      "text/html": [
       "<div>\n",
       "<style>\n",
       "    .dataframe thead tr:only-child th {\n",
       "        text-align: right;\n",
       "    }\n",
       "\n",
       "    .dataframe thead th {\n",
       "        text-align: left;\n",
       "    }\n",
       "\n",
       "    .dataframe tbody tr th {\n",
       "        vertical-align: top;\n",
       "    }\n",
       "</style>\n",
       "<table border=\"1\" class=\"dataframe\">\n",
       "  <thead>\n",
       "    <tr style=\"text-align: right;\">\n",
       "      <th></th>\n",
       "      <th>jobId</th>\n",
       "      <th>companyId</th>\n",
       "      <th>jobType</th>\n",
       "      <th>degree</th>\n",
       "      <th>major</th>\n",
       "      <th>industry</th>\n",
       "      <th>yearsExperience</th>\n",
       "      <th>milesFromMetropolis</th>\n",
       "    </tr>\n",
       "  </thead>\n",
       "  <tbody>\n",
       "    <tr>\n",
       "      <th>212869</th>\n",
       "      <td>JOB1362685620556</td>\n",
       "      <td>COMP0</td>\n",
       "      <td>CFO</td>\n",
       "      <td>NONE</td>\n",
       "      <td>NONE</td>\n",
       "      <td>EDUCATION</td>\n",
       "      <td>10</td>\n",
       "      <td>40</td>\n",
       "    </tr>\n",
       "    <tr>\n",
       "      <th>890994</th>\n",
       "      <td>JOB1362686298681</td>\n",
       "      <td>COMP25</td>\n",
       "      <td>CTO</td>\n",
       "      <td>DOCTORAL</td>\n",
       "      <td>LITERATURE</td>\n",
       "      <td>HEALTH</td>\n",
       "      <td>21</td>\n",
       "      <td>38</td>\n",
       "    </tr>\n",
       "    <tr>\n",
       "      <th>529023</th>\n",
       "      <td>JOB1362685936710</td>\n",
       "      <td>COMP36</td>\n",
       "      <td>VICE_PRESIDENT</td>\n",
       "      <td>NONE</td>\n",
       "      <td>NONE</td>\n",
       "      <td>AUTO</td>\n",
       "      <td>13</td>\n",
       "      <td>18</td>\n",
       "    </tr>\n",
       "    <tr>\n",
       "      <th>929974</th>\n",
       "      <td>JOB1362686337661</td>\n",
       "      <td>COMP53</td>\n",
       "      <td>VICE_PRESIDENT</td>\n",
       "      <td>HIGH_SCHOOL</td>\n",
       "      <td>NONE</td>\n",
       "      <td>HEALTH</td>\n",
       "      <td>16</td>\n",
       "      <td>11</td>\n",
       "    </tr>\n",
       "    <tr>\n",
       "      <th>130753</th>\n",
       "      <td>JOB1362685538440</td>\n",
       "      <td>COMP45</td>\n",
       "      <td>MANAGER</td>\n",
       "      <td>DOCTORAL</td>\n",
       "      <td>CHEMISTRY</td>\n",
       "      <td>AUTO</td>\n",
       "      <td>2</td>\n",
       "      <td>89</td>\n",
       "    </tr>\n",
       "    <tr>\n",
       "      <th>305926</th>\n",
       "      <td>JOB1362685713613</td>\n",
       "      <td>COMP14</td>\n",
       "      <td>VICE_PRESIDENT</td>\n",
       "      <td>HIGH_SCHOOL</td>\n",
       "      <td>NONE</td>\n",
       "      <td>AUTO</td>\n",
       "      <td>24</td>\n",
       "      <td>60</td>\n",
       "    </tr>\n",
       "    <tr>\n",
       "      <th>246864</th>\n",
       "      <td>JOB1362685654551</td>\n",
       "      <td>COMP45</td>\n",
       "      <td>CFO</td>\n",
       "      <td>NONE</td>\n",
       "      <td>NONE</td>\n",
       "      <td>EDUCATION</td>\n",
       "      <td>10</td>\n",
       "      <td>96</td>\n",
       "    </tr>\n",
       "    <tr>\n",
       "      <th>765882</th>\n",
       "      <td>JOB1362686173569</td>\n",
       "      <td>COMP46</td>\n",
       "      <td>JANITOR</td>\n",
       "      <td>NONE</td>\n",
       "      <td>NONE</td>\n",
       "      <td>WEB</td>\n",
       "      <td>15</td>\n",
       "      <td>88</td>\n",
       "    </tr>\n",
       "    <tr>\n",
       "      <th>426050</th>\n",
       "      <td>JOB1362685833737</td>\n",
       "      <td>COMP51</td>\n",
       "      <td>SENIOR</td>\n",
       "      <td>DOCTORAL</td>\n",
       "      <td>ENGINEERING</td>\n",
       "      <td>HEALTH</td>\n",
       "      <td>4</td>\n",
       "      <td>3</td>\n",
       "    </tr>\n",
       "    <tr>\n",
       "      <th>503181</th>\n",
       "      <td>JOB1362685910868</td>\n",
       "      <td>COMP42</td>\n",
       "      <td>VICE_PRESIDENT</td>\n",
       "      <td>DOCTORAL</td>\n",
       "      <td>CHEMISTRY</td>\n",
       "      <td>HEALTH</td>\n",
       "      <td>22</td>\n",
       "      <td>87</td>\n",
       "    </tr>\n",
       "  </tbody>\n",
       "</table>\n",
       "</div>"
      ],
      "text/plain": [
       "                   jobId companyId         jobType       degree        major  \\\n",
       "212869  JOB1362685620556     COMP0             CFO         NONE         NONE   \n",
       "890994  JOB1362686298681    COMP25             CTO     DOCTORAL   LITERATURE   \n",
       "529023  JOB1362685936710    COMP36  VICE_PRESIDENT         NONE         NONE   \n",
       "929974  JOB1362686337661    COMP53  VICE_PRESIDENT  HIGH_SCHOOL         NONE   \n",
       "130753  JOB1362685538440    COMP45         MANAGER     DOCTORAL    CHEMISTRY   \n",
       "305926  JOB1362685713613    COMP14  VICE_PRESIDENT  HIGH_SCHOOL         NONE   \n",
       "246864  JOB1362685654551    COMP45             CFO         NONE         NONE   \n",
       "765882  JOB1362686173569    COMP46         JANITOR         NONE         NONE   \n",
       "426050  JOB1362685833737    COMP51          SENIOR     DOCTORAL  ENGINEERING   \n",
       "503181  JOB1362685910868    COMP42  VICE_PRESIDENT     DOCTORAL    CHEMISTRY   \n",
       "\n",
       "         industry  yearsExperience  milesFromMetropolis  \n",
       "212869  EDUCATION               10                   40  \n",
       "890994     HEALTH               21                   38  \n",
       "529023       AUTO               13                   18  \n",
       "929974     HEALTH               16                   11  \n",
       "130753       AUTO                2                   89  \n",
       "305926       AUTO               24                   60  \n",
       "246864  EDUCATION               10                   96  \n",
       "765882        WEB               15                   88  \n",
       "426050     HEALTH                4                    3  \n",
       "503181     HEALTH               22                   87  "
      ]
     },
     "execution_count": 165,
     "metadata": {},
     "output_type": "execute_result"
    }
   ],
   "source": [
    "# Check a few random rows to make sure I loaded this correctly\n",
    "train_x_df.sample(10)"
   ]
  },
  {
   "cell_type": "code",
   "execution_count": 166,
   "metadata": {},
   "outputs": [
    {
     "data": {
      "text/plain": [
       "jobId     1000000\n",
       "salary    1000000\n",
       "dtype: int64"
      ]
     },
     "execution_count": 166,
     "metadata": {},
     "output_type": "execute_result"
    }
   ],
   "source": [
    "# Verify count for outputs\n",
    "train_y_df.count()"
   ]
  },
  {
   "cell_type": "code",
   "execution_count": 181,
   "metadata": {},
   "outputs": [
    {
     "data": {
      "text/plain": [
       "VICE_PRESIDENT    125434\n",
       "JANITOR           125253\n",
       "SENIOR            125202\n",
       "CFO               125092\n",
       "JUNIOR            125022\n",
       "CEO               124941\n",
       "CTO               124665\n",
       "MANAGER           124391\n",
       "Name: jobType, dtype: int64"
      ]
     },
     "execution_count": 181,
     "metadata": {},
     "output_type": "execute_result"
    }
   ],
   "source": [
    "# What are all of the job types?\n",
    "jobTypes = train_x_df['jobType']\n",
    "jobTypes.value_counts()"
   ]
  },
  {
   "cell_type": "code",
   "execution_count": 182,
   "metadata": {},
   "outputs": [
    {
     "data": {
      "text/plain": [
       "HIGH_SCHOOL    238255\n",
       "NONE           237467\n",
       "MASTERS        175236\n",
       "DOCTORAL       175105\n",
       "BACHELORS      173937\n",
       "Name: degree, dtype: int64"
      ]
     },
     "execution_count": 182,
     "metadata": {},
     "output_type": "execute_result"
    }
   ],
   "source": [
    "# What are all of the degrees?\n",
    "degrees = train_x_df['degree']\n",
    "degrees.value_counts()"
   ]
  },
  {
   "cell_type": "code",
   "execution_count": 183,
   "metadata": {},
   "outputs": [
    {
     "data": {
      "text/plain": [
       "NONE           534068\n",
       "BIOLOGY         58804\n",
       "ENGINEERING     58496\n",
       "COMPSCI         58385\n",
       "PHYSICS         58248\n",
       "CHEMISTRY       58159\n",
       "LITERATURE      58062\n",
       "BUSINESS        57961\n",
       "MATH            57817\n",
       "Name: major, dtype: int64"
      ]
     },
     "execution_count": 183,
     "metadata": {},
     "output_type": "execute_result"
    }
   ],
   "source": [
    "# What are all of the majors?\n",
    "majors = train_x_df['major']\n",
    "majors.value_counts()"
   ]
  },
  {
   "cell_type": "code",
   "execution_count": 225,
   "metadata": {},
   "outputs": [
    {
     "data": {
      "text/plain": [
       "SERVICE      143161\n",
       "FINANCE      143101\n",
       "WEB          143012\n",
       "HEALTH       142978\n",
       "EDUCATION    142731\n",
       "OIL          142535\n",
       "AUTO         142482\n",
       "Name: industry, dtype: int64"
      ]
     },
     "execution_count": 225,
     "metadata": {},
     "output_type": "execute_result"
    }
   ],
   "source": [
    "# What are all of the industries?\n",
    "industries = train_x_df['industry']\n",
    "industries.value_counts()"
   ]
  },
  {
   "cell_type": "code",
   "execution_count": 226,
   "metadata": {},
   "outputs": [
    {
     "data": {
      "text/plain": [
       "0     39853\n",
       "1     40152\n",
       "2     40174\n",
       "3     39725\n",
       "4     39945\n",
       "5     39832\n",
       "6     40311\n",
       "7     40403\n",
       "8     40180\n",
       "9     39720\n",
       "10    39746\n",
       "11    39802\n",
       "12    39973\n",
       "13    39892\n",
       "14    39951\n",
       "15    40094\n",
       "16    40045\n",
       "17    40060\n",
       "18    39737\n",
       "19    40028\n",
       "20    40190\n",
       "21    40034\n",
       "22    40018\n",
       "23    40084\n",
       "24    40051\n",
       "Name: yearsExperience, dtype: int64"
      ]
     },
     "execution_count": 226,
     "metadata": {},
     "output_type": "execute_result"
    }
   ],
   "source": [
    "# What's the range of years experience?\n",
    "train_x_df.sort_values(by=['yearsExperience'])\n",
    "years = train_x_df['yearsExperience']\n",
    "# List the yearsExperience and their count\n",
    "years.value_counts().sort_index()\n",
    "#plt.hist(years,bins=25);"
   ]
  },
  {
   "cell_type": "code",
   "execution_count": 233,
   "metadata": {},
   "outputs": [
    {
     "data": {
      "text/plain": [
       "0     10130\n",
       "1     10086\n",
       "2     10177\n",
       "3     10019\n",
       "4     10086\n",
       "5     10036\n",
       "6      9824\n",
       "7      9995\n",
       "8      9949\n",
       "9      9891\n",
       "10    10031\n",
       "11     9982\n",
       "12     9883\n",
       "13    10163\n",
       "14    10096\n",
       "15     9979\n",
       "16     9998\n",
       "17    10007\n",
       "18     9755\n",
       "19     9908\n",
       "20    10054\n",
       "21     9948\n",
       "22    10015\n",
       "23     9973\n",
       "24     9842\n",
       "25    10166\n",
       "26     9992\n",
       "27    10046\n",
       "28     9994\n",
       "29     9913\n",
       "      ...  \n",
       "70     9816\n",
       "71     9997\n",
       "72    10066\n",
       "73    10086\n",
       "74    10019\n",
       "75    10054\n",
       "76    10158\n",
       "77    10042\n",
       "78    10031\n",
       "79    10129\n",
       "80    10261\n",
       "81    10035\n",
       "82    10033\n",
       "83     9788\n",
       "84     9916\n",
       "85    10020\n",
       "86     9925\n",
       "87    10114\n",
       "88     9926\n",
       "89    10045\n",
       "90    10060\n",
       "91    10088\n",
       "92     9908\n",
       "93     9922\n",
       "94    10017\n",
       "95    10205\n",
       "96    10144\n",
       "97    10010\n",
       "98     9984\n",
       "99     9998\n",
       "Name: milesFromMetropolis, Length: 100, dtype: int64"
      ]
     },
     "execution_count": 233,
     "metadata": {},
     "output_type": "execute_result"
    }
   ],
   "source": [
    "# What's the range of miles from metropolis?\n",
    "dists = train_x_df['milesFromMetropolis']\n",
    "dists.value_counts().sort_index()"
   ]
  },
  {
   "cell_type": "markdown",
   "metadata": {},
   "source": [
    "# More feature exploration"
   ]
  },
  {
   "cell_type": "code",
   "execution_count": 178,
   "metadata": {},
   "outputs": [
    {
     "data": {
      "text/plain": [
       "JANITOR           125253\n",
       "VICE_PRESIDENT     58825\n",
       "SENIOR             58580\n",
       "JUNIOR             58472\n",
       "MANAGER            58348\n",
       "CFO                58247\n",
       "CEO                58196\n",
       "CTO                58147\n",
       "Name: jobType, dtype: int64"
      ]
     },
     "execution_count": 178,
     "metadata": {},
     "output_type": "execute_result"
    }
   ],
   "source": [
    "# What's my distribution of jobTypes without a major?\n",
    "jobTypes_no_maj = train_x_df[train_x_df['major'] == 'NONE']['jobType']\n",
    "jobTypes_no_maj.value_counts()"
   ]
  },
  {
   "cell_type": "code",
   "execution_count": 179,
   "metadata": {},
   "outputs": [
    {
     "data": {
      "text/plain": [
       "JANITOR           62551\n",
       "SENIOR            25244\n",
       "VICE_PRESIDENT    25120\n",
       "CEO               25057\n",
       "JUNIOR            24975\n",
       "CFO               24882\n",
       "MANAGER           24861\n",
       "CTO               24777\n",
       "Name: jobType, dtype: int64"
      ]
     },
     "execution_count": 179,
     "metadata": {},
     "output_type": "execute_result"
    }
   ],
   "source": [
    "# What's my distribution of jobTypes without a degree?\n",
    "jobTypes_no_deg = train_x_df[train_x_df['degree'] == 'NONE']['jobType']\n",
    "jobTypes_no_deg.value_counts()"
   ]
  },
  {
   "cell_type": "markdown",
   "metadata": {},
   "source": [
    "# Salary data"
   ]
  },
  {
   "cell_type": "code",
   "execution_count": 93,
   "metadata": {},
   "outputs": [
    {
     "data": {
      "text/plain": [
       "(0, 301)"
      ]
     },
     "execution_count": 93,
     "metadata": {},
     "output_type": "execute_result"
    }
   ],
   "source": [
    "# What's the range of salaries?\n",
    "salaries = set(train_y_df['salary'])\n",
    "(min(salaries), max(salaries))"
   ]
  },
  {
   "cell_type": "code",
   "execution_count": 113,
   "metadata": {},
   "outputs": [
    {
     "data": {
      "image/png": "[encoded data removed]",
      "text/plain": [
       "<matplotlib.figure.Figure at 0x27b398c5ac8>"
      ]
     },
     "metadata": {},
     "output_type": "display_data"
    }
   ],
   "source": [
    "# What's the distribution of salary data?\n",
    "\n",
    "plt.hist(sorted(train_y_df['salary']), bins=301); #based on salary range\n",
    "plt.xlabel('Salary ($k)', fontsize = '20');\n",
    "plt.ylabel('Number of listings', fontsize = '20');"
   ]
  },
  {
   "cell_type": "code",
   "execution_count": 114,
   "metadata": {},
   "outputs": [
    {
     "data": {
      "text/plain": [
       "jobId     5\n",
       "salary    5\n",
       "dtype: int64"
      ]
     },
     "execution_count": 114,
     "metadata": {},
     "output_type": "execute_result"
    }
   ],
   "source": [
    "# Any 0-salary listings in our training set?\n",
    "train_y_df[train_y_df['salary']<=0].count()"
   ]
  },
  {
   "cell_type": "code",
   "execution_count": 159,
   "metadata": {},
   "outputs": [
    {
     "data": {
      "text/plain": [
       "jobId     5\n",
       "salary    5\n",
       "dtype: int64"
      ]
     },
     "execution_count": 159,
     "metadata": {},
     "output_type": "execute_result"
    }
   ],
   "source": [
    "# What about really low-salary listings in our training set?\n",
    "train_y_df[train_y_df['salary']<=5].count()  # Pick some low threshold, like 5k annual salary."
   ]
  },
  {
   "cell_type": "code",
   "execution_count": 236,
   "metadata": {},
   "outputs": [
    {
     "data": {
      "text/html": [
       "<div>\n",
       "<style>\n",
       "    .dataframe thead tr:only-child th {\n",
       "        text-align: right;\n",
       "    }\n",
       "\n",
       "    .dataframe thead th {\n",
       "        text-align: left;\n",
       "    }\n",
       "\n",
       "    .dataframe tbody tr th {\n",
       "        vertical-align: top;\n",
       "    }\n",
       "</style>\n",
       "<table border=\"1\" class=\"dataframe\">\n",
       "  <thead>\n",
       "    <tr style=\"text-align: right;\">\n",
       "      <th></th>\n",
       "      <th>jobId</th>\n",
       "      <th>companyId</th>\n",
       "      <th>jobType</th>\n",
       "      <th>degree</th>\n",
       "      <th>major</th>\n",
       "      <th>industry</th>\n",
       "      <th>yearsExperience</th>\n",
       "      <th>milesFromMetropolis</th>\n",
       "    </tr>\n",
       "  </thead>\n",
       "  <tbody>\n",
       "    <tr>\n",
       "      <th>30559</th>\n",
       "      <td>JOB1362685438246</td>\n",
       "      <td>COMP20</td>\n",
       "      <td>MANAGER</td>\n",
       "      <td>DOCTORAL</td>\n",
       "      <td>NONE</td>\n",
       "      <td>WEB</td>\n",
       "      <td>20</td>\n",
       "      <td>58</td>\n",
       "    </tr>\n",
       "    <tr>\n",
       "      <th>495984</th>\n",
       "      <td>JOB1362685903671</td>\n",
       "      <td>COMP8</td>\n",
       "      <td>CEO</td>\n",
       "      <td>HIGH_SCHOOL</td>\n",
       "      <td>NONE</td>\n",
       "      <td>EDUCATION</td>\n",
       "      <td>16</td>\n",
       "      <td>45</td>\n",
       "    </tr>\n",
       "    <tr>\n",
       "      <th>652076</th>\n",
       "      <td>JOB1362686059763</td>\n",
       "      <td>COMP44</td>\n",
       "      <td>CEO</td>\n",
       "      <td>MASTERS</td>\n",
       "      <td>MATH</td>\n",
       "      <td>WEB</td>\n",
       "      <td>19</td>\n",
       "      <td>46</td>\n",
       "    </tr>\n",
       "    <tr>\n",
       "      <th>816129</th>\n",
       "      <td>JOB1362686223816</td>\n",
       "      <td>COMP34</td>\n",
       "      <td>VICE_PRESIDENT</td>\n",
       "      <td>MASTERS</td>\n",
       "      <td>COMPSCI</td>\n",
       "      <td>SERVICE</td>\n",
       "      <td>23</td>\n",
       "      <td>66</td>\n",
       "    </tr>\n",
       "    <tr>\n",
       "      <th>828156</th>\n",
       "      <td>JOB1362686235843</td>\n",
       "      <td>COMP12</td>\n",
       "      <td>CFO</td>\n",
       "      <td>BACHELORS</td>\n",
       "      <td>NONE</td>\n",
       "      <td>SERVICE</td>\n",
       "      <td>5</td>\n",
       "      <td>86</td>\n",
       "    </tr>\n",
       "  </tbody>\n",
       "</table>\n",
       "</div>"
      ],
      "text/plain": [
       "                   jobId companyId         jobType       degree    major  \\\n",
       "30559   JOB1362685438246    COMP20         MANAGER     DOCTORAL     NONE   \n",
       "495984  JOB1362685903671     COMP8             CEO  HIGH_SCHOOL     NONE   \n",
       "652076  JOB1362686059763    COMP44             CEO      MASTERS     MATH   \n",
       "816129  JOB1362686223816    COMP34  VICE_PRESIDENT      MASTERS  COMPSCI   \n",
       "828156  JOB1362686235843    COMP12             CFO    BACHELORS     NONE   \n",
       "\n",
       "         industry  yearsExperience  milesFromMetropolis  \n",
       "30559         WEB               20                   58  \n",
       "495984  EDUCATION               16                   45  \n",
       "652076        WEB               19                   46  \n",
       "816129    SERVICE               23                   66  \n",
       "828156    SERVICE                5                   86  "
      ]
     },
     "execution_count": 236,
     "metadata": {},
     "output_type": "execute_result"
    }
   ],
   "source": [
    "# Probably bad data, but let's check.\n",
    "train_x_df[train_y_df['salary']<=5]"
   ]
  },
  {
   "cell_type": "code",
   "execution_count": 235,
   "metadata": {},
   "outputs": [
    {
     "data": {
      "text/plain": [
       "jobId                  999995\n",
       "companyId              999995\n",
       "jobType                999995\n",
       "degree                 999995\n",
       "major                  999995\n",
       "industry               999995\n",
       "yearsExperience        999995\n",
       "milesFromMetropolis    999995\n",
       "dtype: int64"
      ]
     },
     "execution_count": 235,
     "metadata": {},
     "output_type": "execute_result"
    }
   ],
   "source": [
    "# Keep data where salary is in a reasonable range (i.e. >5). Also keep 'NONE' values.\n",
    "clean_y_df = train_y_df[train_y_df['salary']>=5]\n",
    "clean_x_df = train_x_df[train_y_df['salary']>=5]\n",
    "clean_x_df.count()"
   ]
  },
  {
   "cell_type": "markdown",
   "metadata": {},
   "source": [
    "## Data Exploration Notes\n",
    "\n",
    "The feature data contains 'NONE' values. In cases where the degree is \"High School\" then there's no corresponding major, which is expected. \n",
    "\n",
    "Currently, it's about 24% of the 'degree' data and 54% of the 'major' data. It's a large enough percentage that I don't want to drop it, it appears to be distributed across the dataset, and if I use a tree-based model, it may end being useful. But if the model performs badly, I may re-evaluate.\n",
    "\n",
    "On the other hand, 0-salary results are not useful, and there are so few that it's probably safe to drop them."
   ]
  },
  {
   "cell_type": "code",
   "execution_count": null,
   "metadata": {
    "collapsed": true
   },
   "outputs": [],
   "source": []
  },
  {
   "cell_type": "code",
   "execution_count": null,
   "metadata": {
    "collapsed": true
   },
   "outputs": [],
   "source": []
  }
 ],
 "metadata": {
  "kernelspec": {
   "display_name": "Python 3",
   "language": "python",
   "name": "python3"
  },
  "language_info": {
   "codemirror_mode": {
    "name": "ipython",
    "version": 3
   },
   "file_extension": ".py",
   "mimetype": "text/x-python",
   "name": "python",
   "nbconvert_exporter": "python",
   "pygments_lexer": "ipython3",
   "version": "3.6.1"
  }
 },
 "nbformat": 4,
 "nbformat_minor": 2
}
